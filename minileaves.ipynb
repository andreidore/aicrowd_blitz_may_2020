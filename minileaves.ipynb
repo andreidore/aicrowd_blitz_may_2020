{
  "nbformat": 4,
  "nbformat_minor": 0,
  "metadata": {
    "colab": {
      "name": "minileaves.ipynb",
      "provenance": [],
      "authorship_tag": "ABX9TyP/ZASmjTURzWWJOaEyg34g",
      "include_colab_link": true
    },
    "kernelspec": {
      "name": "python3",
      "display_name": "Python 3"
    },
    "accelerator": "GPU"
  },
  "cells": [
    {
      "cell_type": "markdown",
      "metadata": {
        "id": "view-in-github",
        "colab_type": "text"
      },
      "source": [
        "<a href=\"https://colab.research.google.com/github/andreidore/aicrowd_blitz_may_2020/blob/master/minileaves.ipynb\" target=\"_parent\"><img src=\"https://colab.research.google.com/assets/colab-badge.svg\" alt=\"Open In Colab\"/></a>"
      ]
    },
    {
      "cell_type": "code",
      "metadata": {
        "id": "V74G8tLT-DIn",
        "colab_type": "code",
        "outputId": "a18b3612-a881-4816-bfad-4fd9020ebfd8",
        "colab": {
          "base_uri": "https://localhost:8080/",
          "height": 1000
        }
      },
      "source": [
        "!pip install wandb==0.8.33\n"
      ],
      "execution_count": 1,
      "outputs": [
        {
          "output_type": "stream",
          "text": [
            "Collecting wandb==0.8.33\n",
            "\u001b[?25l  Downloading https://files.pythonhosted.org/packages/b6/30/cb8f29239f638cc2b03ac25642b78ced1e927c448a1e16a4a7f566a29436/wandb-0.8.33-py2.py3-none-any.whl (1.4MB)\n",
            "\u001b[K     |████████████████████████████████| 1.4MB 15.1MB/s \n",
            "\u001b[?25hCollecting subprocess32>=3.5.3\n",
            "\u001b[?25l  Downloading https://files.pythonhosted.org/packages/32/c8/564be4d12629b912ea431f1a50eb8b3b9d00f1a0b1ceff17f266be190007/subprocess32-3.5.4.tar.gz (97kB)\n",
            "\u001b[K     |████████████████████████████████| 102kB 12.7MB/s \n",
            "\u001b[?25hRequirement already satisfied: Click>=7.0 in /usr/local/lib/python3.6/dist-packages (from wandb==0.8.33) (7.1.2)\n",
            "Collecting sentry-sdk>=0.4.0\n",
            "\u001b[?25l  Downloading https://files.pythonhosted.org/packages/20/7e/19545324e83db4522b885808cd913c3b93ecc0c88b03e037b78c6a417fa8/sentry_sdk-0.14.3-py2.py3-none-any.whl (103kB)\n",
            "\u001b[K     |████████████████████████████████| 112kB 37.1MB/s \n",
            "\u001b[?25hCollecting docker-pycreds>=0.4.0\n",
            "  Downloading https://files.pythonhosted.org/packages/f5/e8/f6bd1eee09314e7e6dee49cbe2c5e22314ccdb38db16c9fc72d2fa80d054/docker_pycreds-0.4.0-py2.py3-none-any.whl\n",
            "Requirement already satisfied: requests>=2.0.0 in /usr/local/lib/python3.6/dist-packages (from wandb==0.8.33) (2.23.0)\n",
            "Collecting GitPython>=1.0.0\n",
            "\u001b[?25l  Downloading https://files.pythonhosted.org/packages/44/33/917e6fde1cad13daa7053f39b7c8af3be287314f75f1b1ea8d3fe37a8571/GitPython-3.1.2-py3-none-any.whl (451kB)\n",
            "\u001b[K     |████████████████████████████████| 460kB 48.8MB/s \n",
            "\u001b[?25hCollecting shortuuid>=0.5.0\n",
            "  Downloading https://files.pythonhosted.org/packages/25/a6/2ecc1daa6a304e7f1b216f0896b26156b78e7c38e1211e9b798b4716c53d/shortuuid-1.0.1-py3-none-any.whl\n",
            "Requirement already satisfied: six>=1.10.0 in /usr/local/lib/python3.6/dist-packages (from wandb==0.8.33) (1.12.0)\n",
            "Collecting watchdog>=0.8.3\n",
            "\u001b[?25l  Downloading https://files.pythonhosted.org/packages/73/c3/ed6d992006837e011baca89476a4bbffb0a91602432f73bd4473816c76e2/watchdog-0.10.2.tar.gz (95kB)\n",
            "\u001b[K     |████████████████████████████████| 102kB 14.9MB/s \n",
            "\u001b[?25hCollecting gql==0.2.0\n",
            "  Downloading https://files.pythonhosted.org/packages/c4/6f/cf9a3056045518f06184e804bae89390eb706168349daa9dff8ac609962a/gql-0.2.0.tar.gz\n",
            "Requirement already satisfied: PyYAML>=3.10 in /usr/local/lib/python3.6/dist-packages (from wandb==0.8.33) (3.13)\n",
            "Collecting configparser>=3.8.1\n",
            "  Downloading https://files.pythonhosted.org/packages/4b/6b/01baa293090240cf0562cc5eccb69c6f5006282127f2b846fad011305c79/configparser-5.0.0-py3-none-any.whl\n",
            "Requirement already satisfied: python-dateutil>=2.6.1 in /usr/local/lib/python3.6/dist-packages (from wandb==0.8.33) (2.8.1)\n",
            "Requirement already satisfied: psutil>=5.0.0 in /usr/local/lib/python3.6/dist-packages (from wandb==0.8.33) (5.4.8)\n",
            "Requirement already satisfied: nvidia-ml-py3>=7.352.0 in /usr/local/lib/python3.6/dist-packages (from wandb==0.8.33) (7.352.0)\n",
            "Requirement already satisfied: urllib3>=1.10.0 in /usr/local/lib/python3.6/dist-packages (from sentry-sdk>=0.4.0->wandb==0.8.33) (1.24.3)\n",
            "Requirement already satisfied: certifi in /usr/local/lib/python3.6/dist-packages (from sentry-sdk>=0.4.0->wandb==0.8.33) (2020.4.5.1)\n",
            "Requirement already satisfied: idna<3,>=2.5 in /usr/local/lib/python3.6/dist-packages (from requests>=2.0.0->wandb==0.8.33) (2.9)\n",
            "Requirement already satisfied: chardet<4,>=3.0.2 in /usr/local/lib/python3.6/dist-packages (from requests>=2.0.0->wandb==0.8.33) (3.0.4)\n",
            "Collecting gitdb<5,>=4.0.1\n",
            "\u001b[?25l  Downloading https://files.pythonhosted.org/packages/48/11/d1800bca0a3bae820b84b7d813ad1eff15a48a64caea9c823fc8c1b119e8/gitdb-4.0.5-py3-none-any.whl (63kB)\n",
            "\u001b[K     |████████████████████████████████| 71kB 12.5MB/s \n",
            "\u001b[?25hCollecting pathtools>=0.1.1\n",
            "  Downloading https://files.pythonhosted.org/packages/e7/7f/470d6fcdf23f9f3518f6b0b76be9df16dcc8630ad409947f8be2eb0ed13a/pathtools-0.1.2.tar.gz\n",
            "Collecting graphql-core<2,>=0.5.0\n",
            "\u001b[?25l  Downloading https://files.pythonhosted.org/packages/b0/89/00ad5e07524d8c523b14d70c685e0299a8b0de6d0727e368c41b89b7ed0b/graphql-core-1.1.tar.gz (70kB)\n",
            "\u001b[K     |████████████████████████████████| 71kB 11.1MB/s \n",
            "\u001b[?25hRequirement already satisfied: promise<3,>=2.0 in /usr/local/lib/python3.6/dist-packages (from gql==0.2.0->wandb==0.8.33) (2.3)\n",
            "Collecting smmap<4,>=3.0.1\n",
            "  Downloading https://files.pythonhosted.org/packages/b0/9a/4d409a6234eb940e6a78dfdfc66156e7522262f5f2fecca07dc55915952d/smmap-3.0.4-py2.py3-none-any.whl\n",
            "Building wheels for collected packages: subprocess32, watchdog, gql, pathtools, graphql-core\n",
            "  Building wheel for subprocess32 (setup.py) ... \u001b[?25l\u001b[?25hdone\n",
            "  Created wheel for subprocess32: filename=subprocess32-3.5.4-cp36-none-any.whl size=6489 sha256=ecf53ad1a600aadac3ececb56a82dd456f21d7977decaa4aba35ab424b459ff5\n",
            "  Stored in directory: /root/.cache/pip/wheels/68/39/1a/5e402bdfdf004af1786c8b853fd92f8c4a04f22aad179654d1\n",
            "  Building wheel for watchdog (setup.py) ... \u001b[?25l\u001b[?25hdone\n",
            "  Created wheel for watchdog: filename=watchdog-0.10.2-cp36-none-any.whl size=73605 sha256=713e36370b7633c3ee516336c7212b9139ac6cdf41cc70f49970cd12738c79e9\n",
            "  Stored in directory: /root/.cache/pip/wheels/bc/ed/6c/028dea90d31b359cd2a7c8b0da4db80e41d24a59614154072e\n",
            "  Building wheel for gql (setup.py) ... \u001b[?25l\u001b[?25hdone\n",
            "  Created wheel for gql: filename=gql-0.2.0-cp36-none-any.whl size=7630 sha256=be8cce6f19d4bf8843dffb7cfd4887e08039f8a3a69b8ae42eadceb58154e6c5\n",
            "  Stored in directory: /root/.cache/pip/wheels/ce/0e/7b/58a8a5268655b3ad74feef5aa97946f0addafb3cbb6bd2da23\n",
            "  Building wheel for pathtools (setup.py) ... \u001b[?25l\u001b[?25hdone\n",
            "  Created wheel for pathtools: filename=pathtools-0.1.2-cp36-none-any.whl size=8784 sha256=0293d072e2a6143af4f91c6e75873bd6ae779e82f10f1c373b3989e89004434b\n",
            "  Stored in directory: /root/.cache/pip/wheels/0b/04/79/c3b0c3a0266a3cb4376da31e5bfe8bba0c489246968a68e843\n",
            "  Building wheel for graphql-core (setup.py) ... \u001b[?25l\u001b[?25hdone\n",
            "  Created wheel for graphql-core: filename=graphql_core-1.1-cp36-none-any.whl size=104650 sha256=2c50b7b179d9f6d71da4eae5a695a24c14069b05f6addaa0bf7514f9aa619e61\n",
            "  Stored in directory: /root/.cache/pip/wheels/45/99/d7/c424029bb0fe910c63b68dbf2aa20d3283d023042521bcd7d5\n",
            "Successfully built subprocess32 watchdog gql pathtools graphql-core\n",
            "Installing collected packages: subprocess32, sentry-sdk, docker-pycreds, smmap, gitdb, GitPython, shortuuid, pathtools, watchdog, graphql-core, gql, configparser, wandb\n",
            "Successfully installed GitPython-3.1.2 configparser-5.0.0 docker-pycreds-0.4.0 gitdb-4.0.5 gql-0.2.0 graphql-core-1.1 pathtools-0.1.2 sentry-sdk-0.14.3 shortuuid-1.0.1 smmap-3.0.4 subprocess32-3.5.4 wandb-0.8.33 watchdog-0.10.2\n"
          ],
          "name": "stdout"
        }
      ]
    },
    {
      "cell_type": "code",
      "metadata": {
        "id": "F1dxWAWK-aNk",
        "colab_type": "code",
        "colab": {
          "base_uri": "https://localhost:8080/",
          "height": 765
        },
        "outputId": "964d9163-7bf3-4897-8992-31f1dd11a6b3"
      },
      "source": [
        "!wget https://s3.eu-central-1.wasabisys.com/aicrowd-practice-challenges/public/minileaves/v0.1/train-images.npy\n",
        "!wget https://s3.eu-central-1.wasabisys.com/aicrowd-practice-challenges/public/minileaves/v0.1/train-labels.npy\n",
        "!wget https://s3.eu-central-1.wasabisys.com/aicrowd-practice-challenges/public/minileaves/v0.1/test-images.npy\n",
        "!wget https://s3.eu-central-1.wasabisys.com/aicrowd-practice-challenges/public/minileaves/v0.1/all_classes.txt"
      ],
      "execution_count": 2,
      "outputs": [
        {
          "output_type": "stream",
          "text": [
            "--2020-05-09 17:53:50--  https://s3.eu-central-1.wasabisys.com/aicrowd-practice-challenges/public/minileaves/v0.1/train-images.npy\n",
            "Resolving s3.eu-central-1.wasabisys.com (s3.eu-central-1.wasabisys.com)... 130.117.252.12, 130.117.252.10, 130.117.252.11, ...\n",
            "Connecting to s3.eu-central-1.wasabisys.com (s3.eu-central-1.wasabisys.com)|130.117.252.12|:443... connected.\n",
            "HTTP request sent, awaiting response... 200 OK\n",
            "Length: 133527680 (127M) [binary/octet-stream]\n",
            "Saving to: ‘train-images.npy’\n",
            "\n",
            "train-images.npy    100%[===================>] 127.34M  21.9MB/s    in 6.8s    \n",
            "\n",
            "2020-05-09 17:53:58 (18.8 MB/s) - ‘train-images.npy’ saved [133527680/133527680]\n",
            "\n",
            "--2020-05-09 17:53:59--  https://s3.eu-central-1.wasabisys.com/aicrowd-practice-challenges/public/minileaves/v0.1/train-labels.npy\n",
            "Resolving s3.eu-central-1.wasabisys.com (s3.eu-central-1.wasabisys.com)... 130.117.252.12, 130.117.252.10, 130.117.252.11, ...\n",
            "Connecting to s3.eu-central-1.wasabisys.com (s3.eu-central-1.wasabisys.com)|130.117.252.12|:443... connected.\n",
            "HTTP request sent, awaiting response... 200 OK\n",
            "Length: 347856 (340K) [binary/octet-stream]\n",
            "Saving to: ‘train-labels.npy’\n",
            "\n",
            "train-labels.npy    100%[===================>] 339.70K   637KB/s    in 0.5s    \n",
            "\n",
            "2020-05-09 17:54:00 (637 KB/s) - ‘train-labels.npy’ saved [347856/347856]\n",
            "\n",
            "--2020-05-09 17:54:01--  https://s3.eu-central-1.wasabisys.com/aicrowd-practice-challenges/public/minileaves/v0.1/test-images.npy\n",
            "Resolving s3.eu-central-1.wasabisys.com (s3.eu-central-1.wasabisys.com)... 130.117.252.12, 130.117.252.10, 130.117.252.11, ...\n",
            "Connecting to s3.eu-central-1.wasabisys.com (s3.eu-central-1.wasabisys.com)|130.117.252.12|:443... connected.\n",
            "HTTP request sent, awaiting response... 200 OK\n",
            "Length: 33294464 (32M) [binary/octet-stream]\n",
            "Saving to: ‘test-images.npy’\n",
            "\n",
            "test-images.npy     100%[===================>]  31.75M  13.2MB/s    in 2.4s    \n",
            "\n",
            "2020-05-09 17:54:04 (13.2 MB/s) - ‘test-images.npy’ saved [33294464/33294464]\n",
            "\n",
            "--2020-05-09 17:54:05--  https://s3.eu-central-1.wasabisys.com/aicrowd-practice-challenges/public/minileaves/v0.1/all_classes.txt\n",
            "Resolving s3.eu-central-1.wasabisys.com (s3.eu-central-1.wasabisys.com)... 130.117.252.12, 130.117.252.10, 130.117.252.11, ...\n",
            "Connecting to s3.eu-central-1.wasabisys.com (s3.eu-central-1.wasabisys.com)|130.117.252.12|:443... connected.\n",
            "HTTP request sent, awaiting response... 200 OK\n",
            "Length: 886 [text/plain]\n",
            "Saving to: ‘all_classes.txt’\n",
            "\n",
            "all_classes.txt     100%[===================>]     886  --.-KB/s    in 0s      \n",
            "\n",
            "2020-05-09 17:54:06 (16.5 MB/s) - ‘all_classes.txt’ saved [886/886]\n",
            "\n"
          ],
          "name": "stdout"
        }
      ]
    },
    {
      "cell_type": "code",
      "metadata": {
        "id": "VtU2eJn__Aoe",
        "colab_type": "code",
        "colab": {}
      },
      "source": [
        "from collections import Counter\n",
        "import numpy as np\n",
        "from sklearn.model_selection import train_test_split\n",
        "import tensorflow as tf\n",
        "from tensorflow.keras.preprocessing.image import ImageDataGenerator\n",
        "from tensorflow.keras.models import Sequential\n",
        "from tensorflow.keras.layers import Flatten, Dense, Conv2D, MaxPooling2D, Dropout, Activation, BatchNormalization\n",
        "from tensorflow.keras.optimizers import Adam\n",
        "from tensorflow.keras.utils import to_categorical\n",
        "from tensorflow.keras.callbacks import ModelCheckpoint, ReduceLROnPlateau\n",
        "from tensorflow.keras import regularizers, optimizers\n",
        "import matplotlib.pyplot as plt\n",
        "%matplotlib inline\n",
        "import wandb\n",
        "from wandb.keras import WandbCallback"
      ],
      "execution_count": 0,
      "outputs": []
    },
    {
      "cell_type": "code",
      "metadata": {
        "id": "3YgmzwUsLtwD",
        "colab_type": "code",
        "colab": {
          "base_uri": "https://localhost:8080/",
          "height": 153
        },
        "outputId": "d8917e4e-787b-4784-a23c-3460097dc347"
      },
      "source": [
        "wandb.init(name='CNN-4', project=\"minileaves\",config={\"hyper\": \"parameter\"})"
      ],
      "execution_count": 4,
      "outputs": [
        {
          "output_type": "display_data",
          "data": {
            "application/javascript": [
              "\n",
              "        window._wandbApiKey = new Promise((resolve, reject) => {\n",
              "            function loadScript(url) {\n",
              "            return new Promise(function(resolve, reject) {\n",
              "                let newScript = document.createElement(\"script\");\n",
              "                newScript.onerror = reject;\n",
              "                newScript.onload = resolve;\n",
              "                document.body.appendChild(newScript);\n",
              "                newScript.src = url;\n",
              "            });\n",
              "            }\n",
              "            loadScript(\"https://cdn.jsdelivr.net/npm/postmate/build/postmate.min.js\").then(() => {\n",
              "            const iframe = document.createElement('iframe')\n",
              "            iframe.style.cssText = \"width:0;height:0;border:none\"\n",
              "            document.body.appendChild(iframe)\n",
              "            const handshake = new Postmate({\n",
              "                container: iframe,\n",
              "                url: 'https://app.wandb.ai/authorize'\n",
              "            });\n",
              "            const timeout = setTimeout(() => reject(\"Couldn't auto authenticate\"), 5000)\n",
              "            handshake.then(function(child) {\n",
              "                child.on('authorize', data => {\n",
              "                    clearTimeout(timeout)\n",
              "                    resolve(data)\n",
              "                });\n",
              "            });\n",
              "            })\n",
              "        });\n",
              "    "
            ],
            "text/plain": [
              "<IPython.core.display.Javascript object>"
            ]
          },
          "metadata": {
            "tags": []
          }
        },
        {
          "output_type": "stream",
          "text": [
            "\u001b[34m\u001b[1mwandb\u001b[0m: Appending key for api.wandb.ai to your netrc file: /root/.netrc\n"
          ],
          "name": "stderr"
        },
        {
          "output_type": "display_data",
          "data": {
            "text/html": [
              "\n",
              "                Logging results to <a href=\"https://wandb.com\" target=\"_blank\">Weights & Biases</a> <a href=\"https://docs.wandb.com/integrations/jupyter.html\" target=\"_blank\">(Documentation)</a>.<br/>\n",
              "                Project page: <a href=\"https://app.wandb.ai/andrei-dore/minileaves\" target=\"_blank\">https://app.wandb.ai/andrei-dore/minileaves</a><br/>\n",
              "                Run page: <a href=\"https://app.wandb.ai/andrei-dore/minileaves/runs/268z6d6s\" target=\"_blank\">https://app.wandb.ai/andrei-dore/minileaves/runs/268z6d6s</a><br/>\n",
              "            "
            ],
            "text/plain": [
              "<IPython.core.display.HTML object>"
            ]
          },
          "metadata": {
            "tags": []
          }
        },
        {
          "output_type": "stream",
          "text": [
            "\u001b[34m\u001b[1mwandb\u001b[0m: Wandb version 0.8.35 is available!  To upgrade, please run:\n",
            "\u001b[34m\u001b[1mwandb\u001b[0m:  $ pip install wandb --upgrade\n"
          ],
          "name": "stderr"
        },
        {
          "output_type": "execute_result",
          "data": {
            "text/plain": [
              "W&B Run: https://app.wandb.ai/andrei-dore/minileaves/runs/268z6d6s"
            ]
          },
          "metadata": {
            "tags": []
          },
          "execution_count": 4
        }
      ]
    },
    {
      "cell_type": "markdown",
      "metadata": {
        "id": "StNu8qfd_QxG",
        "colab_type": "text"
      },
      "source": [
        "## Import data"
      ]
    },
    {
      "cell_type": "code",
      "metadata": {
        "id": "Uuqe05Dy_Lq_",
        "colab_type": "code",
        "colab": {}
      },
      "source": [
        "train_images_path = \"train-images.npy\" #path where data is stored\n",
        "train_labels_path = \"train-labels.npy\"\n",
        "\n",
        "train_images = np.load(train_images_path)\n",
        "train_labels = np.load(train_labels_path)\n",
        "\n",
        "# Load Class mapping\n",
        "class_names = [x.strip() for x in open(\"all_classes.txt\").readlines()]"
      ],
      "execution_count": 0,
      "outputs": []
    },
    {
      "cell_type": "code",
      "metadata": {
        "id": "EafWm94z_UxX",
        "colab_type": "code",
        "colab": {
          "base_uri": "https://localhost:8080/",
          "height": 105
        },
        "outputId": "47fd98c5-166b-4c1c-f47c-23b8279985b5"
      },
      "source": [
        "print(train_images.shape)\n",
        "print(train_labels.shape)\n",
        "print(train_labels[0:10])\n",
        "print(class_names)\n"
      ],
      "execution_count": 6,
      "outputs": [
        {
          "output_type": "stream",
          "text": [
            "(43466, 32, 32, 3)\n",
            "(43466,)\n",
            "[ 7  4  9 29 20 15 37  5 29 28]\n",
            "['apple-apple-scab', 'apple-black-rot', 'apple-cedar-apple-rust', 'apple-healthy', 'blueberry-healthy', 'cherry-including-sour-healthy', 'cherry-including-sour-powdery-mildew', 'corn-maize-cercospora-leaf-spot-gray-leaf-spot', 'corn-maize-common-rust', 'corn-maize-healthy', 'corn-maize-northern-leaf-blight', 'grape-black-rot', 'grape-esca-black-measles', 'grape-healthy', 'grape-leaf-blight-isariopsis-leaf-spot', 'orange-haunglongbing-citrus-greening', 'peach-bacterial-spot', 'peach-healthy', 'pepper-bell-bacterial-spot', 'pepper-bell-healthy', 'potato-early-blight', 'potato-healthy', 'potato-late-blight', 'raspberry-healthy', 'soybean-healthy', 'squash-powdery-mildew', 'strawberry-healthy', 'strawberry-leaf-scorch', 'tomato-bacterial-spot', 'tomato-early-blight', 'tomato-healthy', 'tomato-late-blight', 'tomato-leaf-mold', 'tomato-septoria-leaf-spot', 'tomato-spider-mites-two-spotted-spider-mite', 'tomato-target-spot', 'tomato-tomato-mosaic-virus', 'tomato-tomato-yellow-leaf-curl-virus']\n"
          ],
          "name": "stdout"
        }
      ]
    },
    {
      "cell_type": "markdown",
      "metadata": {
        "id": "771Imft_A70K",
        "colab_type": "text"
      },
      "source": [
        "## Visualize date"
      ]
    },
    {
      "cell_type": "code",
      "metadata": {
        "id": "Kf2hw7DkA-IY",
        "colab_type": "code",
        "colab": {
          "base_uri": "https://localhost:8080/",
          "height": 1000
        },
        "outputId": "fff9cff8-bd32-4984-ef84-aef1bf6e2118"
      },
      "source": [
        "def random_data_sample():\n",
        "    \"\"\"\n",
        "    Returns a random data sample from the training set\n",
        "    \"\"\"\n",
        "    random_index = np.random.randint(0, train_images.shape[0])\n",
        "    # Render the image\n",
        "    image_array = train_images[random_index]\n",
        "    class_label = train_labels[random_index] # an integral number in [0-38)\n",
        "    class_name = class_names[class_label] # a human readable class name\n",
        "    return image_array, class_label, class_name\n",
        "\n",
        "\n",
        "\n",
        "fig=plt.figure(figsize=(20, 20))\n",
        "w=10\n",
        "h=10\n",
        "columns = 4\n",
        "rows = 5\n",
        "for i in range(1, columns*rows +1):\n",
        "    img = np.random.randint(10, size=(h,w))\n",
        "    fig.add_subplot(rows, columns, i)\n",
        "    image,class_label,class_name=random_data_sample()\n",
        "    plt.imshow(image)\n",
        "    plt.title(class_name)"
      ],
      "execution_count": 7,
      "outputs": [
        {
          "output_type": "display_data",
          "data": {
            "image/png": "[encoded data removed]",
            "text/plain": [
              "<Figure size 1440x1440 with 20 Axes>"
            ]
          },
          "metadata": {
            "tags": [],
            "needs_background": "light"
          }
        }
      ]
    },
    {
      "cell_type": "markdown",
      "metadata": {
        "id": "U8Dol1hwEWy2",
        "colab_type": "text"
      },
      "source": [
        "## Distribution"
      ]
    },
    {
      "cell_type": "code",
      "metadata": {
        "id": "h_hc0IFHEYzd",
        "colab_type": "code",
        "colab": {
          "base_uri": "https://localhost:8080/",
          "height": 265
        },
        "outputId": "82d049a5-b68d-4a9b-a8af-6bad07157a43"
      },
      "source": [
        "#data_counter = Counter(train_labels)\n",
        "#unique_class_indices = data_counter.keys()\n",
        "\n",
        "#for _class_index in unique_class_indices:\n",
        "#    print(\"Class Index : \", _class_index)\n",
        "#    print(\"Class Name : \", class_names[_class_index])\n",
        "#    print(\"Number of images in the dataset : \", data_counter[_class_index])\n",
        "#    print(\"=\"*100)\n",
        "\n",
        "\n",
        "\n",
        "plt.hist(train_labels, bins = 38)\n",
        "plt.show()\n"
      ],
      "execution_count": 8,
      "outputs": [
        {
          "output_type": "display_data",
          "data": {
            "image/png": "[encoded data removed]",
            "text/plain": [
              "<Figure size 432x288 with 1 Axes>"
            ]
          },
          "metadata": {
            "tags": [],
            "needs_background": "light"
          }
        }
      ]
    },
    {
      "cell_type": "code",
      "metadata": {
        "id": "FTZLU77mFy7F",
        "colab_type": "code",
        "colab": {}
      },
      "source": [
        "X_train, X_val= train_test_split(train_images, test_size=0.2, random_state=42)\n",
        "y_train, y_val= train_test_split(train_labels, test_size=0.2, random_state=42)"
      ],
      "execution_count": 0,
      "outputs": []
    },
    {
      "cell_type": "code",
      "metadata": {
        "id": "DTaWEkVXKx4N",
        "colab_type": "code",
        "colab": {
          "base_uri": "https://localhost:8080/",
          "height": 68
        },
        "outputId": "f4d09bb8-c27d-49bf-9366-0e3e8c0eaf14"
      },
      "source": [
        "#X_train = X_train.astype('float32')/255\n",
        "#X_val = X_val.astype('float32')/255\n",
        "\n",
        "mean = np.mean(X_train)\n",
        "std = np.std(X_train)\n",
        "X_train = (X_train-mean)/(std+1e-7)\n",
        "X_val = (X_val-mean)/(std+1e-7)\n",
        "\n",
        "\n",
        "# one-hot encode the labels\n",
        "num_classes = len(np.unique(y_train))\n",
        "y_train = to_categorical(y_train, num_classes)\n",
        "y_val = to_categorical(y_val, num_classes)\n",
        "\n",
        "\n",
        "# print shape of training set\n",
        "print('x_train shape:', X_train.shape)\n",
        "\n",
        "# print number of training, validation, and test images\n",
        "print(X_train.shape[0], 'train samples')\n",
        "print(X_val.shape[0], 'validation samples')\n"
      ],
      "execution_count": 10,
      "outputs": [
        {
          "output_type": "stream",
          "text": [
            "x_train shape: (34772, 32, 32, 3)\n",
            "34772 train samples\n",
            "8694 validation samples\n"
          ],
          "name": "stdout"
        }
      ]
    },
    {
      "cell_type": "code",
      "metadata": {
        "id": "ISqrIY-BOREE",
        "colab_type": "code",
        "colab": {
          "base_uri": "https://localhost:8080/",
          "height": 1000
        },
        "outputId": "667ab6fc-fb6b-4ca5-aad5-bdfde2973081"
      },
      "source": [
        "# number of hidden units variable \n",
        "# we are declaring this variable here and use it in our CONV layers to make it easier to update from one place\n",
        "base_hidden_units = 32\n",
        "\n",
        "# l2 regularization hyperparameter\n",
        "weight_decay = 1e-4 \n",
        "\n",
        "# instantiate an empty sequential model \n",
        "model = Sequential()\n",
        "\n",
        "# CONV1\n",
        "# notice that we defined the input_shape here because this is the first CONV layer. \n",
        "# we don’t need to do that for the remaining layers\n",
        "model.add(Conv2D(base_hidden_units, (3,3), padding='same', kernel_regularizer=regularizers.l2(weight_decay), input_shape=X_train.shape[1:]))\n",
        "model.add(Activation('relu'))\n",
        "model.add(BatchNormalization())\n",
        "\n",
        "# CONV2\n",
        "model.add(Conv2D(base_hidden_units, (3,3), padding='same', kernel_regularizer=regularizers.l2(weight_decay)))\n",
        "model.add(Activation('relu'))\n",
        "model.add(BatchNormalization())\n",
        "model.add(MaxPooling2D(pool_size=(2,2)))\n",
        "model.add(Dropout(0.2))\n",
        "\n",
        "# CONV3\n",
        "model.add(Conv2D(2*base_hidden_units, (3,3), padding='same', kernel_regularizer=regularizers.l2(weight_decay)))\n",
        "model.add(Activation('relu'))\n",
        "model.add(BatchNormalization())\n",
        "\n",
        "# CONV4\n",
        "model.add(Conv2D(2*base_hidden_units, (3,3), padding='same', kernel_regularizer=regularizers.l2(weight_decay)))\n",
        "model.add(Activation('relu'))\n",
        "model.add(BatchNormalization())\n",
        "model.add(MaxPooling2D(pool_size=(2,2)))\n",
        "model.add(Dropout(0.3))\n",
        "\n",
        "# CONV5\n",
        "model.add(Conv2D(4*base_hidden_units, (3,3), padding='same', kernel_regularizer=regularizers.l2(weight_decay)))\n",
        "model.add(Activation('relu'))\n",
        "model.add(BatchNormalization())\n",
        "\n",
        "# CONV6\n",
        "model.add(Conv2D(4*base_hidden_units, (3,3), padding='same', kernel_regularizer=regularizers.l2(weight_decay)))\n",
        "model.add(Activation('relu'))\n",
        "model.add(BatchNormalization())\n",
        "model.add(MaxPooling2D(pool_size=(2,2)))\n",
        "model.add(Dropout(0.4))\n",
        "\n",
        "# FC7\n",
        "model.add(Flatten())\n",
        "model.add(Dense(num_classes, activation='softmax'))\n",
        "\n",
        "# print model summary\n",
        "model.summary()"
      ],
      "execution_count": 11,
      "outputs": [
        {
          "output_type": "stream",
          "text": [
            "Model: \"sequential\"\n",
            "_________________________________________________________________\n",
            "Layer (type)                 Output Shape              Param #   \n",
            "=================================================================\n",
            "conv2d (Conv2D)              (None, 32, 32, 32)        896       \n",
            "_________________________________________________________________\n",
            "activation (Activation)      (None, 32, 32, 32)        0         \n",
            "_________________________________________________________________\n",
            "batch_normalization (BatchNo (None, 32, 32, 32)        128       \n",
            "_________________________________________________________________\n",
            "conv2d_1 (Conv2D)            (None, 32, 32, 32)        9248      \n",
            "_________________________________________________________________\n",
            "activation_1 (Activation)    (None, 32, 32, 32)        0         \n",
            "_________________________________________________________________\n",
            "batch_normalization_1 (Batch (None, 32, 32, 32)        128       \n",
            "_________________________________________________________________\n",
            "max_pooling2d (MaxPooling2D) (None, 16, 16, 32)        0         \n",
            "_________________________________________________________________\n",
            "dropout (Dropout)            (None, 16, 16, 32)        0         \n",
            "_________________________________________________________________\n",
            "conv2d_2 (Conv2D)            (None, 16, 16, 64)        18496     \n",
            "_________________________________________________________________\n",
            "activation_2 (Activation)    (None, 16, 16, 64)        0         \n",
            "_________________________________________________________________\n",
            "batch_normalization_2 (Batch (None, 16, 16, 64)        256       \n",
            "_________________________________________________________________\n",
            "conv2d_3 (Conv2D)            (None, 16, 16, 64)        36928     \n",
            "_________________________________________________________________\n",
            "activation_3 (Activation)    (None, 16, 16, 64)        0         \n",
            "_________________________________________________________________\n",
            "batch_normalization_3 (Batch (None, 16, 16, 64)        256       \n",
            "_________________________________________________________________\n",
            "max_pooling2d_1 (MaxPooling2 (None, 8, 8, 64)          0         \n",
            "_________________________________________________________________\n",
            "dropout_1 (Dropout)          (None, 8, 8, 64)          0         \n",
            "_________________________________________________________________\n",
            "conv2d_4 (Conv2D)            (None, 8, 8, 128)         73856     \n",
            "_________________________________________________________________\n",
            "activation_4 (Activation)    (None, 8, 8, 128)         0         \n",
            "_________________________________________________________________\n",
            "batch_normalization_4 (Batch (None, 8, 8, 128)         512       \n",
            "_________________________________________________________________\n",
            "conv2d_5 (Conv2D)            (None, 8, 8, 128)         147584    \n",
            "_________________________________________________________________\n",
            "activation_5 (Activation)    (None, 8, 8, 128)         0         \n",
            "_________________________________________________________________\n",
            "batch_normalization_5 (Batch (None, 8, 8, 128)         512       \n",
            "_________________________________________________________________\n",
            "max_pooling2d_2 (MaxPooling2 (None, 4, 4, 128)         0         \n",
            "_________________________________________________________________\n",
            "dropout_2 (Dropout)          (None, 4, 4, 128)         0         \n",
            "_________________________________________________________________\n",
            "flatten (Flatten)            (None, 2048)              0         \n",
            "_________________________________________________________________\n",
            "dense (Dense)                (None, 38)                77862     \n",
            "=================================================================\n",
            "Total params: 366,662\n",
            "Trainable params: 365,766\n",
            "Non-trainable params: 896\n",
            "_________________________________________________________________\n"
          ],
          "name": "stdout"
        }
      ]
    },
    {
      "cell_type": "code",
      "metadata": {
        "id": "spxsksbLdfAw",
        "colab_type": "code",
        "colab": {}
      },
      "source": [
        "datagen = ImageDataGenerator(\n",
        "    featurewise_center=False,\n",
        "    samplewise_center=False,\n",
        "    featurewise_std_normalization=False,\n",
        "    samplewise_std_normalization=False,\n",
        "    zca_whitening=False,\n",
        "    rotation_range=15,\n",
        "    width_shift_range=0.1,\n",
        "    height_shift_range=0.1,\n",
        "    horizontal_flip=True,\n",
        "    vertical_flip=False\n",
        "    )\n",
        "\n",
        "# compute the data augmentation on the training set\n",
        "datagen.fit(X_train)"
      ],
      "execution_count": 0,
      "outputs": []
    },
    {
      "cell_type": "code",
      "metadata": {
        "id": "H0_H3kZ_oa6o",
        "colab_type": "code",
        "colab": {}
      },
      "source": [
        "optimizer = Adam(lr=0.001,decay=1e-6)\n",
        "\n",
        "model.compile(loss='categorical_crossentropy', optimizer=optimizer, \n",
        "              metrics=['accuracy'])"
      ],
      "execution_count": 0,
      "outputs": []
    },
    {
      "cell_type": "code",
      "metadata": {
        "id": "sg9XdiT6Ou9o",
        "colab_type": "code",
        "colab": {
          "base_uri": "https://localhost:8080/",
          "height": 1000
        },
        "outputId": "e9602f82-8728-4e8a-ddd6-6ca85de491a7"
      },
      "source": [
        "# compile the model\n",
        "\n",
        "\n",
        "lrr= ReduceLROnPlateau(\n",
        "                      monitor='val_loss', #Metric to be measured\n",
        "                       factor=.5, #Factor by which learning rate will be reduced\n",
        "                       patience=5,  #No. of epochs after which if there is no improvement in the val_acc, the learning rate is reduced\n",
        "                       min_lr=1e-5) #The minimum learning rate \n",
        "\n",
        "model_checkpoint=ModelCheckpoint(filepath=\"best_model.hdf5\",verbose=1,save_best_only=True)\n",
        "wand_callback=WandbCallback()\n",
        "\n",
        "batch_size=128\n",
        "\n",
        "history=model.fit(datagen.flow(X_train, y_train, batch_size=batch_size),steps_per_epoch=X_train.shape[0] // batch_size,epochs=100,verbose=2,\n",
        "          callbacks=[model_checkpoint,wand_callback,lrr],validation_data=(X_val,y_val),shuffle=True)"
      ],
      "execution_count": 14,
      "outputs": [
        {
          "output_type": "stream",
          "text": [
            "\u001b[34m\u001b[1mwandb\u001b[0m: Wandb version 0.8.35 is available!  To upgrade, please run:\n",
            "\u001b[34m\u001b[1mwandb\u001b[0m:  $ pip install wandb --upgrade\n"
          ],
          "name": "stderr"
        },
        {
          "output_type": "stream",
          "text": [
            "Epoch 1/100\n",
            "\n",
            "Epoch 00001: val_loss improved from inf to 3.39767, saving model to best_model.hdf5\n",
            "271/271 - 17s - loss: 1.6415 - accuracy: 0.5856 - val_loss: 3.3977 - val_accuracy: 0.3205 - lr: 0.0010\n",
            "Epoch 2/100\n",
            "\n",
            "Epoch 00002: val_loss improved from 3.39767 to 0.56926, saving model to best_model.hdf5\n",
            "271/271 - 16s - loss: 0.8130 - accuracy: 0.7663 - val_loss: 0.5693 - val_accuracy: 0.8363 - lr: 0.0010\n",
            "Epoch 3/100\n",
            "\n",
            "Epoch 00003: val_loss improved from 0.56926 to 0.45910, saving model to best_model.hdf5\n",
            "271/271 - 16s - loss: 0.6154 - accuracy: 0.8250 - val_loss: 0.4591 - val_accuracy: 0.8700 - lr: 0.0010\n",
            "Epoch 4/100\n",
            "\n",
            "Epoch 00004: val_loss did not improve from 0.45910\n",
            "271/271 - 16s - loss: 0.4722 - accuracy: 0.8668 - val_loss: 0.6224 - val_accuracy: 0.8354 - lr: 0.0010\n",
            "Epoch 5/100\n",
            "\n",
            "Epoch 00005: val_loss improved from 0.45910 to 0.42342, saving model to best_model.hdf5\n",
            "271/271 - 17s - loss: 0.3967 - accuracy: 0.8868 - val_loss: 0.4234 - val_accuracy: 0.8790 - lr: 0.0010\n",
            "Epoch 6/100\n",
            "\n",
            "Epoch 00006: val_loss did not improve from 0.42342\n",
            "271/271 - 16s - loss: 0.3549 - accuracy: 0.9016 - val_loss: 0.5570 - val_accuracy: 0.8407 - lr: 0.0010\n",
            "Epoch 7/100\n",
            "\n",
            "Epoch 00007: val_loss improved from 0.42342 to 0.34090, saving model to best_model.hdf5\n",
            "271/271 - 17s - loss: 0.3250 - accuracy: 0.9127 - val_loss: 0.3409 - val_accuracy: 0.9065 - lr: 0.0010\n",
            "Epoch 8/100\n",
            "\n",
            "Epoch 00008: val_loss did not improve from 0.34090\n",
            "271/271 - 16s - loss: 0.3041 - accuracy: 0.9203 - val_loss: 0.3720 - val_accuracy: 0.9027 - lr: 0.0010\n",
            "Epoch 9/100\n",
            "\n",
            "Epoch 00009: val_loss improved from 0.34090 to 0.26912, saving model to best_model.hdf5\n",
            "271/271 - 16s - loss: 0.2741 - accuracy: 0.9277 - val_loss: 0.2691 - val_accuracy: 0.9291 - lr: 0.0010\n",
            "Epoch 10/100\n",
            "\n",
            "Epoch 00010: val_loss did not improve from 0.26912\n",
            "271/271 - 17s - loss: 0.2671 - accuracy: 0.9320 - val_loss: 0.2908 - val_accuracy: 0.9262 - lr: 0.0010\n",
            "Epoch 11/100\n",
            "\n",
            "Epoch 00011: val_loss did not improve from 0.26912\n",
            "271/271 - 16s - loss: 0.2533 - accuracy: 0.9364 - val_loss: 0.4694 - val_accuracy: 0.8781 - lr: 0.0010\n",
            "Epoch 12/100\n",
            "\n",
            "Epoch 00012: val_loss did not improve from 0.26912\n",
            "271/271 - 16s - loss: 0.2389 - accuracy: 0.9410 - val_loss: 0.3740 - val_accuracy: 0.9035 - lr: 0.0010\n",
            "Epoch 13/100\n",
            "\n",
            "Epoch 00013: val_loss did not improve from 0.26912\n",
            "271/271 - 17s - loss: 0.2391 - accuracy: 0.9423 - val_loss: 0.2990 - val_accuracy: 0.9260 - lr: 0.0010\n",
            "Epoch 14/100\n",
            "\n",
            "Epoch 00014: val_loss did not improve from 0.26912\n",
            "271/271 - 16s - loss: 0.2302 - accuracy: 0.9459 - val_loss: 0.3225 - val_accuracy: 0.9209 - lr: 0.0010\n",
            "Epoch 15/100\n",
            "\n",
            "Epoch 00015: val_loss improved from 0.26912 to 0.21302, saving model to best_model.hdf5\n",
            "271/271 - 17s - loss: 0.1735 - accuracy: 0.9636 - val_loss: 0.2130 - val_accuracy: 0.9539 - lr: 5.0000e-04\n",
            "Epoch 16/100\n",
            "\n",
            "Epoch 00016: val_loss did not improve from 0.21302\n",
            "271/271 - 17s - loss: 0.1583 - accuracy: 0.9689 - val_loss: 0.2344 - val_accuracy: 0.9451 - lr: 5.0000e-04\n",
            "Epoch 17/100\n",
            "\n",
            "Epoch 00017: val_loss did not improve from 0.21302\n",
            "271/271 - 16s - loss: 0.1584 - accuracy: 0.9693 - val_loss: 0.2392 - val_accuracy: 0.9429 - lr: 5.0000e-04\n",
            "Epoch 18/100\n",
            "\n",
            "Epoch 00018: val_loss did not improve from 0.21302\n",
            "271/271 - 16s - loss: 0.1543 - accuracy: 0.9691 - val_loss: 0.2184 - val_accuracy: 0.9523 - lr: 5.0000e-04\n",
            "Epoch 19/100\n",
            "\n",
            "Epoch 00019: val_loss did not improve from 0.21302\n",
            "271/271 - 17s - loss: 0.1519 - accuracy: 0.9706 - val_loss: 0.2289 - val_accuracy: 0.9497 - lr: 5.0000e-04\n",
            "Epoch 20/100\n",
            "\n",
            "Epoch 00020: val_loss improved from 0.21302 to 0.19917, saving model to best_model.hdf5\n",
            "271/271 - 17s - loss: 0.1487 - accuracy: 0.9704 - val_loss: 0.1992 - val_accuracy: 0.9554 - lr: 5.0000e-04\n",
            "Epoch 21/100\n",
            "\n",
            "Epoch 00021: val_loss did not improve from 0.19917\n",
            "271/271 - 17s - loss: 0.1498 - accuracy: 0.9709 - val_loss: 0.2166 - val_accuracy: 0.9507 - lr: 5.0000e-04\n",
            "Epoch 22/100\n",
            "\n",
            "Epoch 00022: val_loss did not improve from 0.19917\n",
            "271/271 - 16s - loss: 0.1469 - accuracy: 0.9720 - val_loss: 0.2680 - val_accuracy: 0.9359 - lr: 5.0000e-04\n",
            "Epoch 23/100\n",
            "\n",
            "Epoch 00023: val_loss did not improve from 0.19917\n",
            "271/271 - 16s - loss: 0.1465 - accuracy: 0.9714 - val_loss: 0.2338 - val_accuracy: 0.9487 - lr: 5.0000e-04\n",
            "Epoch 24/100\n",
            "\n",
            "Epoch 00024: val_loss did not improve from 0.19917\n",
            "271/271 - 17s - loss: 0.1438 - accuracy: 0.9728 - val_loss: 0.2103 - val_accuracy: 0.9533 - lr: 5.0000e-04\n",
            "Epoch 25/100\n",
            "\n",
            "Epoch 00025: val_loss did not improve from 0.19917\n",
            "271/271 - 17s - loss: 0.1422 - accuracy: 0.9734 - val_loss: 0.2650 - val_accuracy: 0.9410 - lr: 5.0000e-04\n",
            "Epoch 26/100\n",
            "\n",
            "Epoch 00026: val_loss improved from 0.19917 to 0.18284, saving model to best_model.hdf5\n",
            "271/271 - 17s - loss: 0.1210 - accuracy: 0.9799 - val_loss: 0.1828 - val_accuracy: 0.9618 - lr: 2.5000e-04\n",
            "Epoch 27/100\n",
            "\n",
            "Epoch 00027: val_loss did not improve from 0.18284\n",
            "271/271 - 16s - loss: 0.1141 - accuracy: 0.9819 - val_loss: 0.1912 - val_accuracy: 0.9602 - lr: 2.5000e-04\n",
            "Epoch 28/100\n",
            "\n",
            "Epoch 00028: val_loss did not improve from 0.18284\n",
            "271/271 - 17s - loss: 0.1096 - accuracy: 0.9835 - val_loss: 0.2277 - val_accuracy: 0.9495 - lr: 2.5000e-04\n",
            "Epoch 29/100\n",
            "\n",
            "Epoch 00029: val_loss did not improve from 0.18284\n",
            "271/271 - 17s - loss: 0.1084 - accuracy: 0.9837 - val_loss: 0.2594 - val_accuracy: 0.9393 - lr: 2.5000e-04\n",
            "Epoch 30/100\n",
            "\n",
            "Epoch 00030: val_loss improved from 0.18284 to 0.18215, saving model to best_model.hdf5\n",
            "271/271 - 17s - loss: 0.1028 - accuracy: 0.9852 - val_loss: 0.1821 - val_accuracy: 0.9632 - lr: 2.5000e-04\n",
            "Epoch 31/100\n",
            "\n",
            "Epoch 00031: val_loss did not improve from 0.18215\n",
            "271/271 - 17s - loss: 0.1028 - accuracy: 0.9855 - val_loss: 0.1841 - val_accuracy: 0.9605 - lr: 2.5000e-04\n",
            "Epoch 32/100\n",
            "\n",
            "Epoch 00032: val_loss improved from 0.18215 to 0.17788, saving model to best_model.hdf5\n",
            "271/271 - 17s - loss: 0.1054 - accuracy: 0.9841 - val_loss: 0.1779 - val_accuracy: 0.9640 - lr: 2.5000e-04\n",
            "Epoch 33/100\n",
            "\n",
            "Epoch 00033: val_loss did not improve from 0.17788\n",
            "271/271 - 16s - loss: 0.1035 - accuracy: 0.9847 - val_loss: 0.1988 - val_accuracy: 0.9595 - lr: 2.5000e-04\n",
            "Epoch 34/100\n",
            "\n",
            "Epoch 00034: val_loss did not improve from 0.17788\n",
            "271/271 - 17s - loss: 0.1010 - accuracy: 0.9855 - val_loss: 0.1884 - val_accuracy: 0.9617 - lr: 2.5000e-04\n",
            "Epoch 35/100\n",
            "\n",
            "Epoch 00035: val_loss improved from 0.17788 to 0.16786, saving model to best_model.hdf5\n",
            "271/271 - 17s - loss: 0.1018 - accuracy: 0.9845 - val_loss: 0.1679 - val_accuracy: 0.9677 - lr: 2.5000e-04\n",
            "Epoch 36/100\n",
            "\n",
            "Epoch 00036: val_loss did not improve from 0.16786\n",
            "271/271 - 17s - loss: 0.1026 - accuracy: 0.9847 - val_loss: 0.1831 - val_accuracy: 0.9638 - lr: 2.5000e-04\n",
            "Epoch 37/100\n",
            "\n",
            "Epoch 00037: val_loss improved from 0.16786 to 0.16748, saving model to best_model.hdf5\n",
            "271/271 - 18s - loss: 0.1000 - accuracy: 0.9850 - val_loss: 0.1675 - val_accuracy: 0.9671 - lr: 2.5000e-04\n",
            "Epoch 38/100\n",
            "\n",
            "Epoch 00038: val_loss did not improve from 0.16748\n",
            "271/271 - 17s - loss: 0.0954 - accuracy: 0.9862 - val_loss: 0.1780 - val_accuracy: 0.9615 - lr: 2.5000e-04\n",
            "Epoch 39/100\n",
            "\n",
            "Epoch 00039: val_loss did not improve from 0.16748\n",
            "271/271 - 17s - loss: 0.0952 - accuracy: 0.9859 - val_loss: 0.1727 - val_accuracy: 0.9639 - lr: 2.5000e-04\n",
            "Epoch 40/100\n",
            "\n",
            "Epoch 00040: val_loss did not improve from 0.16748\n",
            "271/271 - 16s - loss: 0.0955 - accuracy: 0.9857 - val_loss: 0.2182 - val_accuracy: 0.9528 - lr: 2.5000e-04\n",
            "Epoch 41/100\n",
            "\n",
            "Epoch 00041: val_loss did not improve from 0.16748\n",
            "271/271 - 16s - loss: 0.0936 - accuracy: 0.9863 - val_loss: 0.2177 - val_accuracy: 0.9531 - lr: 2.5000e-04\n",
            "Epoch 42/100\n",
            "\n",
            "Epoch 00042: val_loss did not improve from 0.16748\n",
            "271/271 - 17s - loss: 0.0912 - accuracy: 0.9878 - val_loss: 0.2387 - val_accuracy: 0.9471 - lr: 2.5000e-04\n",
            "Epoch 43/100\n",
            "\n",
            "Epoch 00043: val_loss improved from 0.16748 to 0.15710, saving model to best_model.hdf5\n",
            "271/271 - 17s - loss: 0.0834 - accuracy: 0.9898 - val_loss: 0.1571 - val_accuracy: 0.9685 - lr: 1.2500e-04\n",
            "Epoch 44/100\n",
            "\n",
            "Epoch 00044: val_loss did not improve from 0.15710\n",
            "271/271 - 17s - loss: 0.0802 - accuracy: 0.9909 - val_loss: 0.1616 - val_accuracy: 0.9668 - lr: 1.2500e-04\n",
            "Epoch 45/100\n",
            "\n",
            "Epoch 00045: val_loss did not improve from 0.15710\n",
            "271/271 - 17s - loss: 0.0787 - accuracy: 0.9912 - val_loss: 0.1702 - val_accuracy: 0.9649 - lr: 1.2500e-04\n",
            "Epoch 46/100\n",
            "\n",
            "Epoch 00046: val_loss improved from 0.15710 to 0.13544, saving model to best_model.hdf5\n",
            "271/271 - 17s - loss: 0.0784 - accuracy: 0.9912 - val_loss: 0.1354 - val_accuracy: 0.9747 - lr: 1.2500e-04\n",
            "Epoch 47/100\n",
            "\n",
            "Epoch 00047: val_loss did not improve from 0.13544\n",
            "271/271 - 17s - loss: 0.0759 - accuracy: 0.9923 - val_loss: 0.1577 - val_accuracy: 0.9669 - lr: 1.2500e-04\n",
            "Epoch 48/100\n",
            "\n",
            "Epoch 00048: val_loss did not improve from 0.13544\n",
            "271/271 - 17s - loss: 0.0782 - accuracy: 0.9909 - val_loss: 0.1543 - val_accuracy: 0.9689 - lr: 1.2500e-04\n",
            "Epoch 49/100\n",
            "\n",
            "Epoch 00049: val_loss did not improve from 0.13544\n",
            "271/271 - 17s - loss: 0.0776 - accuracy: 0.9909 - val_loss: 0.1527 - val_accuracy: 0.9676 - lr: 1.2500e-04\n",
            "Epoch 50/100\n",
            "\n",
            "Epoch 00050: val_loss did not improve from 0.13544\n",
            "271/271 - 17s - loss: 0.0750 - accuracy: 0.9919 - val_loss: 0.1528 - val_accuracy: 0.9687 - lr: 1.2500e-04\n",
            "Epoch 51/100\n",
            "\n",
            "Epoch 00051: val_loss did not improve from 0.13544\n",
            "271/271 - 17s - loss: 0.0772 - accuracy: 0.9915 - val_loss: 0.1461 - val_accuracy: 0.9708 - lr: 1.2500e-04\n",
            "Epoch 52/100\n",
            "\n",
            "Epoch 00052: val_loss did not improve from 0.13544\n",
            "271/271 - 17s - loss: 0.0719 - accuracy: 0.9927 - val_loss: 0.1407 - val_accuracy: 0.9727 - lr: 6.2500e-05\n",
            "Epoch 53/100\n",
            "\n",
            "Epoch 00053: val_loss did not improve from 0.13544\n",
            "271/271 - 17s - loss: 0.0711 - accuracy: 0.9929 - val_loss: 0.1448 - val_accuracy: 0.9718 - lr: 6.2500e-05\n",
            "Epoch 54/100\n",
            "\n",
            "Epoch 00054: val_loss did not improve from 0.13544\n",
            "271/271 - 17s - loss: 0.0711 - accuracy: 0.9928 - val_loss: 0.1409 - val_accuracy: 0.9735 - lr: 6.2500e-05\n",
            "Epoch 55/100\n",
            "\n",
            "Epoch 00055: val_loss did not improve from 0.13544\n",
            "271/271 - 17s - loss: 0.0669 - accuracy: 0.9942 - val_loss: 0.1380 - val_accuracy: 0.9735 - lr: 6.2500e-05\n",
            "Epoch 56/100\n",
            "\n",
            "Epoch 00056: val_loss did not improve from 0.13544\n",
            "271/271 - 16s - loss: 0.0688 - accuracy: 0.9933 - val_loss: 0.1370 - val_accuracy: 0.9744 - lr: 6.2500e-05\n",
            "Epoch 57/100\n",
            "\n",
            "Epoch 00057: val_loss did not improve from 0.13544\n",
            "271/271 - 17s - loss: 0.0666 - accuracy: 0.9940 - val_loss: 0.1395 - val_accuracy: 0.9733 - lr: 3.1250e-05\n",
            "Epoch 58/100\n",
            "\n",
            "Epoch 00058: val_loss did not improve from 0.13544\n",
            "271/271 - 17s - loss: 0.0659 - accuracy: 0.9945 - val_loss: 0.1517 - val_accuracy: 0.9709 - lr: 3.1250e-05\n",
            "Epoch 59/100\n",
            "\n",
            "Epoch 00059: val_loss did not improve from 0.13544\n",
            "271/271 - 17s - loss: 0.0651 - accuracy: 0.9945 - val_loss: 0.1456 - val_accuracy: 0.9722 - lr: 3.1250e-05\n",
            "Epoch 60/100\n",
            "\n",
            "Epoch 00060: val_loss did not improve from 0.13544\n",
            "271/271 - 17s - loss: 0.0643 - accuracy: 0.9945 - val_loss: 0.1436 - val_accuracy: 0.9716 - lr: 3.1250e-05\n",
            "Epoch 61/100\n",
            "\n",
            "Epoch 00061: val_loss did not improve from 0.13544\n",
            "271/271 - 17s - loss: 0.0656 - accuracy: 0.9944 - val_loss: 0.1393 - val_accuracy: 0.9718 - lr: 3.1250e-05\n",
            "Epoch 62/100\n",
            "\n",
            "Epoch 00062: val_loss did not improve from 0.13544\n",
            "271/271 - 16s - loss: 0.0659 - accuracy: 0.9945 - val_loss: 0.1380 - val_accuracy: 0.9737 - lr: 1.5625e-05\n",
            "Epoch 63/100\n",
            "\n",
            "Epoch 00063: val_loss did not improve from 0.13544\n",
            "271/271 - 17s - loss: 0.0646 - accuracy: 0.9945 - val_loss: 0.1421 - val_accuracy: 0.9725 - lr: 1.5625e-05\n",
            "Epoch 64/100\n",
            "\n",
            "Epoch 00064: val_loss did not improve from 0.13544\n",
            "271/271 - 17s - loss: 0.0627 - accuracy: 0.9956 - val_loss: 0.1396 - val_accuracy: 0.9733 - lr: 1.5625e-05\n",
            "Epoch 65/100\n",
            "\n",
            "Epoch 00065: val_loss improved from 0.13544 to 0.13527, saving model to best_model.hdf5\n",
            "271/271 - 17s - loss: 0.0648 - accuracy: 0.9948 - val_loss: 0.1353 - val_accuracy: 0.9739 - lr: 1.5625e-05\n",
            "Epoch 66/100\n",
            "\n",
            "Epoch 00066: val_loss did not improve from 0.13527\n",
            "271/271 - 17s - loss: 0.0629 - accuracy: 0.9951 - val_loss: 0.1399 - val_accuracy: 0.9740 - lr: 1.5625e-05\n",
            "Epoch 67/100\n",
            "\n",
            "Epoch 00067: val_loss did not improve from 0.13527\n",
            "271/271 - 17s - loss: 0.0652 - accuracy: 0.9942 - val_loss: 0.1379 - val_accuracy: 0.9734 - lr: 1.5625e-05\n",
            "Epoch 68/100\n",
            "\n",
            "Epoch 00068: val_loss did not improve from 0.13527\n",
            "271/271 - 17s - loss: 0.0631 - accuracy: 0.9952 - val_loss: 0.1392 - val_accuracy: 0.9738 - lr: 1.5625e-05\n",
            "Epoch 69/100\n",
            "\n",
            "Epoch 00069: val_loss improved from 0.13527 to 0.13393, saving model to best_model.hdf5\n",
            "271/271 - 17s - loss: 0.0630 - accuracy: 0.9950 - val_loss: 0.1339 - val_accuracy: 0.9745 - lr: 1.5625e-05\n",
            "Epoch 70/100\n",
            "\n",
            "Epoch 00070: val_loss improved from 0.13393 to 0.13375, saving model to best_model.hdf5\n",
            "271/271 - 17s - loss: 0.0625 - accuracy: 0.9953 - val_loss: 0.1338 - val_accuracy: 0.9754 - lr: 1.5625e-05\n",
            "Epoch 71/100\n",
            "\n",
            "Epoch 00071: val_loss improved from 0.13375 to 0.13371, saving model to best_model.hdf5\n",
            "271/271 - 17s - loss: 0.0632 - accuracy: 0.9952 - val_loss: 0.1337 - val_accuracy: 0.9741 - lr: 1.5625e-05\n",
            "Epoch 72/100\n",
            "\n",
            "Epoch 00072: val_loss improved from 0.13371 to 0.13329, saving model to best_model.hdf5\n",
            "271/271 - 17s - loss: 0.0645 - accuracy: 0.9947 - val_loss: 0.1333 - val_accuracy: 0.9744 - lr: 1.5625e-05\n",
            "Epoch 73/100\n",
            "\n",
            "Epoch 00073: val_loss did not improve from 0.13329\n",
            "271/271 - 17s - loss: 0.0635 - accuracy: 0.9947 - val_loss: 0.1338 - val_accuracy: 0.9748 - lr: 1.5625e-05\n",
            "Epoch 74/100\n",
            "\n",
            "Epoch 00074: val_loss did not improve from 0.13329\n",
            "271/271 - 17s - loss: 0.0633 - accuracy: 0.9949 - val_loss: 0.1333 - val_accuracy: 0.9749 - lr: 1.5625e-05\n",
            "Epoch 75/100\n",
            "\n",
            "Epoch 00075: val_loss did not improve from 0.13329\n",
            "271/271 - 17s - loss: 0.0639 - accuracy: 0.9946 - val_loss: 0.1406 - val_accuracy: 0.9723 - lr: 1.5625e-05\n",
            "Epoch 76/100\n",
            "\n",
            "Epoch 00076: val_loss did not improve from 0.13329\n",
            "271/271 - 17s - loss: 0.0613 - accuracy: 0.9958 - val_loss: 0.1429 - val_accuracy: 0.9718 - lr: 1.5625e-05\n",
            "Epoch 77/100\n",
            "\n",
            "Epoch 00077: val_loss did not improve from 0.13329\n",
            "271/271 - 17s - loss: 0.0619 - accuracy: 0.9951 - val_loss: 0.1379 - val_accuracy: 0.9740 - lr: 1.5625e-05\n",
            "Epoch 78/100\n",
            "\n",
            "Epoch 00078: val_loss did not improve from 0.13329\n",
            "271/271 - 16s - loss: 0.0626 - accuracy: 0.9950 - val_loss: 0.1424 - val_accuracy: 0.9722 - lr: 1.0000e-05\n",
            "Epoch 79/100\n",
            "\n",
            "Epoch 00079: val_loss did not improve from 0.13329\n",
            "271/271 - 17s - loss: 0.0612 - accuracy: 0.9955 - val_loss: 0.1410 - val_accuracy: 0.9731 - lr: 1.0000e-05\n",
            "Epoch 80/100\n",
            "\n",
            "Epoch 00080: val_loss did not improve from 0.13329\n",
            "271/271 - 17s - loss: 0.0601 - accuracy: 0.9959 - val_loss: 0.1451 - val_accuracy: 0.9711 - lr: 1.0000e-05\n",
            "Epoch 81/100\n",
            "\n",
            "Epoch 00081: val_loss did not improve from 0.13329\n",
            "271/271 - 17s - loss: 0.0617 - accuracy: 0.9954 - val_loss: 0.1396 - val_accuracy: 0.9729 - lr: 1.0000e-05\n",
            "Epoch 82/100\n",
            "\n",
            "Epoch 00082: val_loss did not improve from 0.13329\n",
            "271/271 - 17s - loss: 0.0624 - accuracy: 0.9950 - val_loss: 0.1367 - val_accuracy: 0.9747 - lr: 1.0000e-05\n",
            "Epoch 83/100\n",
            "\n",
            "Epoch 00083: val_loss did not improve from 0.13329\n",
            "271/271 - 17s - loss: 0.0611 - accuracy: 0.9954 - val_loss: 0.1398 - val_accuracy: 0.9729 - lr: 1.0000e-05\n",
            "Epoch 84/100\n",
            "\n",
            "Epoch 00084: val_loss did not improve from 0.13329\n",
            "271/271 - 17s - loss: 0.0606 - accuracy: 0.9955 - val_loss: 0.1381 - val_accuracy: 0.9733 - lr: 1.0000e-05\n",
            "Epoch 85/100\n",
            "\n",
            "Epoch 00085: val_loss improved from 0.13329 to 0.13201, saving model to best_model.hdf5\n",
            "271/271 - 17s - loss: 0.0620 - accuracy: 0.9953 - val_loss: 0.1320 - val_accuracy: 0.9753 - lr: 1.0000e-05\n",
            "Epoch 86/100\n",
            "\n",
            "Epoch 00086: val_loss did not improve from 0.13201\n",
            "271/271 - 17s - loss: 0.0603 - accuracy: 0.9961 - val_loss: 0.1367 - val_accuracy: 0.9740 - lr: 1.0000e-05\n",
            "Epoch 87/100\n",
            "\n",
            "Epoch 00087: val_loss did not improve from 0.13201\n",
            "271/271 - 17s - loss: 0.0605 - accuracy: 0.9954 - val_loss: 0.1411 - val_accuracy: 0.9725 - lr: 1.0000e-05\n",
            "Epoch 88/100\n",
            "\n",
            "Epoch 00088: val_loss did not improve from 0.13201\n",
            "271/271 - 17s - loss: 0.0618 - accuracy: 0.9948 - val_loss: 0.1343 - val_accuracy: 0.9749 - lr: 1.0000e-05\n",
            "Epoch 89/100\n",
            "\n",
            "Epoch 00089: val_loss did not improve from 0.13201\n",
            "271/271 - 17s - loss: 0.0600 - accuracy: 0.9958 - val_loss: 0.1388 - val_accuracy: 0.9731 - lr: 1.0000e-05\n",
            "Epoch 90/100\n",
            "\n",
            "Epoch 00090: val_loss did not improve from 0.13201\n",
            "271/271 - 17s - loss: 0.0608 - accuracy: 0.9953 - val_loss: 0.1358 - val_accuracy: 0.9738 - lr: 1.0000e-05\n",
            "Epoch 91/100\n",
            "\n",
            "Epoch 00091: val_loss did not improve from 0.13201\n",
            "271/271 - 17s - loss: 0.0600 - accuracy: 0.9956 - val_loss: 0.1357 - val_accuracy: 0.9735 - lr: 1.0000e-05\n",
            "Epoch 92/100\n",
            "\n",
            "Epoch 00092: val_loss did not improve from 0.13201\n",
            "271/271 - 17s - loss: 0.0600 - accuracy: 0.9957 - val_loss: 0.1363 - val_accuracy: 0.9735 - lr: 1.0000e-05\n",
            "Epoch 93/100\n",
            "\n",
            "Epoch 00093: val_loss improved from 0.13201 to 0.13111, saving model to best_model.hdf5\n",
            "271/271 - 17s - loss: 0.0606 - accuracy: 0.9956 - val_loss: 0.1311 - val_accuracy: 0.9750 - lr: 1.0000e-05\n",
            "Epoch 94/100\n",
            "\n",
            "Epoch 00094: val_loss did not improve from 0.13111\n",
            "271/271 - 16s - loss: 0.0606 - accuracy: 0.9957 - val_loss: 0.1340 - val_accuracy: 0.9748 - lr: 1.0000e-05\n",
            "Epoch 95/100\n",
            "\n",
            "Epoch 00095: val_loss did not improve from 0.13111\n",
            "271/271 - 16s - loss: 0.0616 - accuracy: 0.9954 - val_loss: 0.1335 - val_accuracy: 0.9749 - lr: 1.0000e-05\n",
            "Epoch 96/100\n",
            "\n",
            "Epoch 00096: val_loss improved from 0.13111 to 0.13098, saving model to best_model.hdf5\n",
            "271/271 - 17s - loss: 0.0606 - accuracy: 0.9956 - val_loss: 0.1310 - val_accuracy: 0.9756 - lr: 1.0000e-05\n",
            "Epoch 97/100\n",
            "\n",
            "Epoch 00097: val_loss did not improve from 0.13098\n",
            "271/271 - 17s - loss: 0.0604 - accuracy: 0.9956 - val_loss: 0.1315 - val_accuracy: 0.9749 - lr: 1.0000e-05\n",
            "Epoch 98/100\n",
            "\n",
            "Epoch 00098: val_loss did not improve from 0.13098\n",
            "271/271 - 17s - loss: 0.0615 - accuracy: 0.9949 - val_loss: 0.1316 - val_accuracy: 0.9756 - lr: 1.0000e-05\n",
            "Epoch 99/100\n",
            "\n",
            "Epoch 00099: val_loss did not improve from 0.13098\n",
            "271/271 - 17s - loss: 0.0584 - accuracy: 0.9966 - val_loss: 0.1323 - val_accuracy: 0.9752 - lr: 1.0000e-05\n",
            "Epoch 100/100\n",
            "\n",
            "Epoch 00100: val_loss did not improve from 0.13098\n",
            "271/271 - 17s - loss: 0.0609 - accuracy: 0.9951 - val_loss: 0.1318 - val_accuracy: 0.9750 - lr: 1.0000e-05\n"
          ],
          "name": "stdout"
        }
      ]
    },
    {
      "cell_type": "code",
      "metadata": {
        "id": "UaaklaaJRfVC",
        "colab_type": "code",
        "colab": {}
      },
      "source": [
        "model.load_weights('best_model.hdf5')"
      ],
      "execution_count": 0,
      "outputs": []
    },
    {
      "cell_type": "code",
      "metadata": {
        "id": "kJ5TNkp1YDEh",
        "colab_type": "code",
        "colab": {
          "base_uri": "https://localhost:8080/",
          "height": 68
        },
        "outputId": "efc4cbc7-cdc9-46d2-bf65-7fe97b3d0a0a"
      },
      "source": [
        "scores = model.evaluate(X_val, y_val, batch_size=128, verbose=1)\n",
        "print('\\nTest result: %.3f loss: %.3f' % (scores[1]*100,scores[0]))"
      ],
      "execution_count": 16,
      "outputs": [
        {
          "output_type": "stream",
          "text": [
            "68/68 [==============================] - 1s 9ms/step - loss: 0.1310 - accuracy: 0.9756\n",
            "\n",
            "Test result: 97.562 loss: 0.131\n"
          ],
          "name": "stdout"
        }
      ]
    },
    {
      "cell_type": "markdown",
      "metadata": {
        "id": "cLKGtDmlZBrR",
        "colab_type": "text"
      },
      "source": [
        ""
      ]
    },
    {
      "cell_type": "code",
      "metadata": {
        "id": "HR1hdu_IZCxC",
        "colab_type": "code",
        "colab": {}
      },
      "source": [
        "test_file_path = \"test-images.npy\"\n",
        "test_images = np.load(test_file_path)"
      ],
      "execution_count": 0,
      "outputs": []
    },
    {
      "cell_type": "code",
      "metadata": {
        "id": "dk48NlY7ZSN-",
        "colab_type": "code",
        "colab": {}
      },
      "source": [
        "#test_images=test_images.astype('float32')/255\n",
        "test_images = (test_images-mean)/(std+1e-7)"
      ],
      "execution_count": 0,
      "outputs": []
    },
    {
      "cell_type": "code",
      "metadata": {
        "id": "WtUaF3AXZNJv",
        "colab_type": "code",
        "colab": {}
      },
      "source": [
        "submission=model.predict(test_images)"
      ],
      "execution_count": 0,
      "outputs": []
    },
    {
      "cell_type": "code",
      "metadata": {
        "id": "wBcAzq4zZnuF",
        "colab_type": "code",
        "colab": {
          "base_uri": "https://localhost:8080/",
          "height": 34
        },
        "outputId": "45821871-5d51-4a66-93e4-7f5807b6616b"
      },
      "source": [
        "\n",
        "submission=np.argmax(submission,axis=1)\n",
        "print(submission.shape)"
      ],
      "execution_count": 23,
      "outputs": [
        {
          "output_type": "stream",
          "text": [
            "(10838,)\n"
          ],
          "name": "stdout"
        }
      ]
    },
    {
      "cell_type": "markdown",
      "metadata": {
        "id": "K_-hNgK9Jx7p",
        "colab_type": "text"
      },
      "source": [
        "## Save the prediction to csv"
      ]
    },
    {
      "cell_type": "code",
      "metadata": {
        "id": "UQrGefmRJ2lD",
        "colab_type": "code",
        "colab": {}
      },
      "source": [
        "import pandas as pd\n",
        "submission = pd.DataFrame(submission)\n",
        "submission.to_csv('submission.csv',header=['class_index'],index=False)"
      ],
      "execution_count": 0,
      "outputs": []
    },
    {
      "cell_type": "markdown",
      "metadata": {
        "id": "Smf9n3qoJ52k",
        "colab_type": "text"
      },
      "source": [
        "## To download the generated csv in colab run the below command"
      ]
    },
    {
      "cell_type": "code",
      "metadata": {
        "id": "pcTNc8-8KC6d",
        "colab_type": "code",
        "colab": {}
      },
      "source": [
        "from google.colab import files\n",
        "files.download('submission.csv')"
      ],
      "execution_count": 0,
      "outputs": []
    }
  ]
}