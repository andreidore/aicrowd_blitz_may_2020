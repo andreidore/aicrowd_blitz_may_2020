{
  "nbformat": 4,
  "nbformat_minor": 0,
  "metadata": {
    "colab": {
      "name": "minileaves.ipynb",
      "provenance": [],
      "authorship_tag": "ABX9TyOVS0iX0b2AroO23tTPpQhm",
      "include_colab_link": true
    },
    "kernelspec": {
      "name": "python3",
      "display_name": "Python 3"
    },
    "accelerator": "GPU"
  },
  "cells": [
    {
      "cell_type": "markdown",
      "metadata": {
        "id": "view-in-github",
        "colab_type": "text"
      },
      "source": [
        "<a href=\"https://colab.research.google.com/github/andreidore/aicrowd_blitz_may_2020/blob/master/minileaves.ipynb\" target=\"_parent\"><img src=\"https://colab.research.google.com/assets/colab-badge.svg\" alt=\"Open In Colab\"/></a>"
      ]
    },
    {
      "cell_type": "code",
      "metadata": {
        "id": "V74G8tLT-DIn",
        "colab_type": "code",
        "outputId": "659e6c5c-e352-44ba-95a0-f81048c418a3",
        "colab": {
          "base_uri": "https://localhost:8080/",
          "height": 442
        }
      },
      "source": [
        "!pip install wandb==0.8.33\n"
      ],
      "execution_count": 15,
      "outputs": [
        {
          "output_type": "stream",
          "text": [
            "Requirement already satisfied: wandb==0.8.33 in /usr/local/lib/python3.6/dist-packages (0.8.33)\n",
            "Requirement already satisfied: nvidia-ml-py3>=7.352.0 in /usr/local/lib/python3.6/dist-packages (from wandb==0.8.33) (7.352.0)\n",
            "Requirement already satisfied: psutil>=5.0.0 in /usr/local/lib/python3.6/dist-packages (from wandb==0.8.33) (5.4.8)\n",
            "Requirement already satisfied: sentry-sdk>=0.4.0 in /usr/local/lib/python3.6/dist-packages (from wandb==0.8.33) (0.14.3)\n",
            "Requirement already satisfied: subprocess32>=3.5.3 in /usr/local/lib/python3.6/dist-packages (from wandb==0.8.33) (3.5.4)\n",
            "Requirement already satisfied: gql==0.2.0 in /usr/local/lib/python3.6/dist-packages (from wandb==0.8.33) (0.2.0)\n",
            "Requirement already satisfied: docker-pycreds>=0.4.0 in /usr/local/lib/python3.6/dist-packages (from wandb==0.8.33) (0.4.0)\n",
            "Requirement already satisfied: PyYAML>=3.10 in /usr/local/lib/python3.6/dist-packages (from wandb==0.8.33) (3.13)\n",
            "Requirement already satisfied: GitPython>=1.0.0 in /usr/local/lib/python3.6/dist-packages (from wandb==0.8.33) (3.1.2)\n",
            "Requirement already satisfied: configparser>=3.8.1 in /usr/local/lib/python3.6/dist-packages (from wandb==0.8.33) (5.0.0)\n",
            "Requirement already satisfied: watchdog>=0.8.3 in /usr/local/lib/python3.6/dist-packages (from wandb==0.8.33) (0.10.2)\n",
            "Requirement already satisfied: Click>=7.0 in /usr/local/lib/python3.6/dist-packages (from wandb==0.8.33) (7.1.2)\n",
            "Requirement already satisfied: requests>=2.0.0 in /usr/local/lib/python3.6/dist-packages (from wandb==0.8.33) (2.23.0)\n",
            "Requirement already satisfied: shortuuid>=0.5.0 in /usr/local/lib/python3.6/dist-packages (from wandb==0.8.33) (1.0.1)\n",
            "Requirement already satisfied: six>=1.10.0 in /usr/local/lib/python3.6/dist-packages (from wandb==0.8.33) (1.12.0)\n",
            "Requirement already satisfied: python-dateutil>=2.6.1 in /usr/local/lib/python3.6/dist-packages (from wandb==0.8.33) (2.8.1)\n",
            "Requirement already satisfied: urllib3>=1.10.0 in /usr/local/lib/python3.6/dist-packages (from sentry-sdk>=0.4.0->wandb==0.8.33) (1.24.3)\n",
            "Requirement already satisfied: certifi in /usr/local/lib/python3.6/dist-packages (from sentry-sdk>=0.4.0->wandb==0.8.33) (2020.4.5.1)\n",
            "Requirement already satisfied: promise<3,>=2.0 in /usr/local/lib/python3.6/dist-packages (from gql==0.2.0->wandb==0.8.33) (2.3)\n",
            "Requirement already satisfied: graphql-core<2,>=0.5.0 in /usr/local/lib/python3.6/dist-packages (from gql==0.2.0->wandb==0.8.33) (1.1)\n",
            "Requirement already satisfied: gitdb<5,>=4.0.1 in /usr/local/lib/python3.6/dist-packages (from GitPython>=1.0.0->wandb==0.8.33) (4.0.5)\n",
            "Requirement already satisfied: pathtools>=0.1.1 in /usr/local/lib/python3.6/dist-packages (from watchdog>=0.8.3->wandb==0.8.33) (0.1.2)\n",
            "Requirement already satisfied: idna<3,>=2.5 in /usr/local/lib/python3.6/dist-packages (from requests>=2.0.0->wandb==0.8.33) (2.9)\n",
            "Requirement already satisfied: chardet<4,>=3.0.2 in /usr/local/lib/python3.6/dist-packages (from requests>=2.0.0->wandb==0.8.33) (3.0.4)\n",
            "Requirement already satisfied: smmap<4,>=3.0.1 in /usr/local/lib/python3.6/dist-packages (from gitdb<5,>=4.0.1->GitPython>=1.0.0->wandb==0.8.33) (3.0.4)\n"
          ],
          "name": "stdout"
        }
      ]
    },
    {
      "cell_type": "code",
      "metadata": {
        "id": "F1dxWAWK-aNk",
        "colab_type": "code",
        "outputId": "96e5d371-7118-4a1c-c78e-c4e38dca52c3",
        "colab": {
          "base_uri": "https://localhost:8080/",
          "height": 765
        }
      },
      "source": [
        "!wget https://s3.eu-central-1.wasabisys.com/aicrowd-practice-challenges/public/minileaves/v0.1/train-images.npy\n",
        "!wget https://s3.eu-central-1.wasabisys.com/aicrowd-practice-challenges/public/minileaves/v0.1/train-labels.npy\n",
        "!wget https://s3.eu-central-1.wasabisys.com/aicrowd-practice-challenges/public/minileaves/v0.1/test-images.npy\n",
        "!wget https://s3.eu-central-1.wasabisys.com/aicrowd-practice-challenges/public/minileaves/v0.1/all_classes.txt"
      ],
      "execution_count": 16,
      "outputs": [
        {
          "output_type": "stream",
          "text": [
            "--2020-05-10 08:01:26--  https://s3.eu-central-1.wasabisys.com/aicrowd-practice-challenges/public/minileaves/v0.1/train-images.npy\n",
            "Resolving s3.eu-central-1.wasabisys.com (s3.eu-central-1.wasabisys.com)... 130.117.252.12, 130.117.252.10, 130.117.252.16, ...\n",
            "Connecting to s3.eu-central-1.wasabisys.com (s3.eu-central-1.wasabisys.com)|130.117.252.12|:443... connected.\n",
            "HTTP request sent, awaiting response... 200 OK\n",
            "Length: 133527680 (127M) [binary/octet-stream]\n",
            "Saving to: ‘train-images.npy.1’\n",
            "\n",
            "train-images.npy.1  100%[===================>] 127.34M  64.9MB/s    in 2.0s    \n",
            "\n",
            "2020-05-10 08:01:28 (64.9 MB/s) - ‘train-images.npy.1’ saved [133527680/133527680]\n",
            "\n",
            "--2020-05-10 08:01:30--  https://s3.eu-central-1.wasabisys.com/aicrowd-practice-challenges/public/minileaves/v0.1/train-labels.npy\n",
            "Resolving s3.eu-central-1.wasabisys.com (s3.eu-central-1.wasabisys.com)... 130.117.252.16, 130.117.252.12, 130.117.252.11, ...\n",
            "Connecting to s3.eu-central-1.wasabisys.com (s3.eu-central-1.wasabisys.com)|130.117.252.16|:443... connected.\n",
            "HTTP request sent, awaiting response... 200 OK\n",
            "Length: 347856 (340K) [binary/octet-stream]\n",
            "Saving to: ‘train-labels.npy.1’\n",
            "\n",
            "train-labels.npy.1  100%[===================>] 339.70K  --.-KB/s    in 0.05s   \n",
            "\n",
            "2020-05-10 08:01:30 (6.57 MB/s) - ‘train-labels.npy.1’ saved [347856/347856]\n",
            "\n",
            "--2020-05-10 08:01:32--  https://s3.eu-central-1.wasabisys.com/aicrowd-practice-challenges/public/minileaves/v0.1/test-images.npy\n",
            "Resolving s3.eu-central-1.wasabisys.com (s3.eu-central-1.wasabisys.com)... 130.117.252.11, 130.117.252.12, 130.117.252.16, ...\n",
            "Connecting to s3.eu-central-1.wasabisys.com (s3.eu-central-1.wasabisys.com)|130.117.252.11|:443... connected.\n",
            "HTTP request sent, awaiting response... 200 OK\n",
            "Length: 33294464 (32M) [binary/octet-stream]\n",
            "Saving to: ‘test-images.npy.1’\n",
            "\n",
            "test-images.npy.1   100%[===================>]  31.75M  49.6MB/s    in 0.6s    \n",
            "\n",
            "2020-05-10 08:01:33 (49.6 MB/s) - ‘test-images.npy.1’ saved [33294464/33294464]\n",
            "\n",
            "--2020-05-10 08:01:34--  https://s3.eu-central-1.wasabisys.com/aicrowd-practice-challenges/public/minileaves/v0.1/all_classes.txt\n",
            "Resolving s3.eu-central-1.wasabisys.com (s3.eu-central-1.wasabisys.com)... 130.117.252.16, 130.117.252.12, 130.117.252.11, ...\n",
            "Connecting to s3.eu-central-1.wasabisys.com (s3.eu-central-1.wasabisys.com)|130.117.252.16|:443... connected.\n",
            "HTTP request sent, awaiting response... 200 OK\n",
            "Length: 886 [text/plain]\n",
            "Saving to: ‘all_classes.txt.1’\n",
            "\n",
            "all_classes.txt.1   100%[===================>]     886  --.-KB/s    in 0s      \n",
            "\n",
            "2020-05-10 08:01:35 (12.2 MB/s) - ‘all_classes.txt.1’ saved [886/886]\n",
            "\n"
          ],
          "name": "stdout"
        }
      ]
    },
    {
      "cell_type": "code",
      "metadata": {
        "id": "VtU2eJn__Aoe",
        "colab_type": "code",
        "colab": {}
      },
      "source": [
        "from collections import Counter\n",
        "import numpy as np\n",
        "from sklearn.model_selection import train_test_split\n",
        "from sklearn.utils.class_weight import compute_class_weight\n",
        "import tensorflow as tf\n",
        "from tensorflow.keras.preprocessing.image import ImageDataGenerator\n",
        "from tensorflow.keras.models import Sequential\n",
        "from tensorflow.keras.layers import Flatten, Dense, Conv2D, MaxPooling2D, Dropout, Activation, BatchNormalization\n",
        "from tensorflow.keras.optimizers import Adam\n",
        "from tensorflow.keras.utils import to_categorical\n",
        "from tensorflow.keras.callbacks import ModelCheckpoint, ReduceLROnPlateau\n",
        "from tensorflow.keras import regularizers, optimizers\n",
        "import matplotlib.pyplot as plt\n",
        "%matplotlib inline\n",
        "import wandb\n",
        "from wandb.keras import WandbCallback"
      ],
      "execution_count": 0,
      "outputs": []
    },
    {
      "cell_type": "code",
      "metadata": {
        "id": "3YgmzwUsLtwD",
        "colab_type": "code",
        "outputId": "7df46c44-a9f9-4a30-8819-e51ac2f65159",
        "colab": {
          "base_uri": "https://localhost:8080/",
          "height": 119
        }
      },
      "source": [
        "wandb.init(name='CNN-5', project=\"minileaves\",config={\"hyper\": \"parameter\"})"
      ],
      "execution_count": 18,
      "outputs": [
        {
          "output_type": "display_data",
          "data": {
            "text/html": [
              "\n",
              "                Logging results to <a href=\"https://wandb.com\" target=\"_blank\">Weights & Biases</a> <a href=\"https://docs.wandb.com/integrations/jupyter.html\" target=\"_blank\">(Documentation)</a>.<br/>\n",
              "                Project page: <a href=\"https://app.wandb.ai/andrei-dore/minileaves\" target=\"_blank\">https://app.wandb.ai/andrei-dore/minileaves</a><br/>\n",
              "                Run page: <a href=\"https://app.wandb.ai/andrei-dore/minileaves/runs/wk213iw7\" target=\"_blank\">https://app.wandb.ai/andrei-dore/minileaves/runs/wk213iw7</a><br/>\n",
              "            "
            ],
            "text/plain": [
              "<IPython.core.display.HTML object>"
            ]
          },
          "metadata": {
            "tags": []
          }
        },
        {
          "output_type": "stream",
          "text": [
            "\u001b[34m\u001b[1mwandb\u001b[0m: Wandb version 0.8.35 is available!  To upgrade, please run:\n",
            "\u001b[34m\u001b[1mwandb\u001b[0m:  $ pip install wandb --upgrade\n"
          ],
          "name": "stderr"
        },
        {
          "output_type": "execute_result",
          "data": {
            "text/plain": [
              "W&B Run: https://app.wandb.ai/andrei-dore/minileaves/runs/wk213iw7"
            ]
          },
          "metadata": {
            "tags": []
          },
          "execution_count": 18
        }
      ]
    },
    {
      "cell_type": "markdown",
      "metadata": {
        "id": "StNu8qfd_QxG",
        "colab_type": "text"
      },
      "source": [
        "## Import data"
      ]
    },
    {
      "cell_type": "code",
      "metadata": {
        "id": "Uuqe05Dy_Lq_",
        "colab_type": "code",
        "colab": {}
      },
      "source": [
        "train_images_path = \"train-images.npy\" #path where data is stored\n",
        "train_labels_path = \"train-labels.npy\"\n",
        "\n",
        "train_images = np.load(train_images_path)\n",
        "train_labels = np.load(train_labels_path)\n",
        "\n",
        "# Load Class mapping\n",
        "class_names = [x.strip() for x in open(\"all_classes.txt\").readlines()]"
      ],
      "execution_count": 0,
      "outputs": []
    },
    {
      "cell_type": "code",
      "metadata": {
        "id": "EafWm94z_UxX",
        "colab_type": "code",
        "outputId": "34259858-15e2-4ea9-c5fb-a7cac90dcb5c",
        "colab": {
          "base_uri": "https://localhost:8080/",
          "height": 105
        }
      },
      "source": [
        "print(train_images.shape)\n",
        "print(train_labels.shape)\n",
        "print(train_labels[0:10])\n",
        "print(class_names)\n"
      ],
      "execution_count": 20,
      "outputs": [
        {
          "output_type": "stream",
          "text": [
            "(43466, 32, 32, 3)\n",
            "(43466,)\n",
            "[ 7  4  9 29 20 15 37  5 29 28]\n",
            "['apple-apple-scab', 'apple-black-rot', 'apple-cedar-apple-rust', 'apple-healthy', 'blueberry-healthy', 'cherry-including-sour-healthy', 'cherry-including-sour-powdery-mildew', 'corn-maize-cercospora-leaf-spot-gray-leaf-spot', 'corn-maize-common-rust', 'corn-maize-healthy', 'corn-maize-northern-leaf-blight', 'grape-black-rot', 'grape-esca-black-measles', 'grape-healthy', 'grape-leaf-blight-isariopsis-leaf-spot', 'orange-haunglongbing-citrus-greening', 'peach-bacterial-spot', 'peach-healthy', 'pepper-bell-bacterial-spot', 'pepper-bell-healthy', 'potato-early-blight', 'potato-healthy', 'potato-late-blight', 'raspberry-healthy', 'soybean-healthy', 'squash-powdery-mildew', 'strawberry-healthy', 'strawberry-leaf-scorch', 'tomato-bacterial-spot', 'tomato-early-blight', 'tomato-healthy', 'tomato-late-blight', 'tomato-leaf-mold', 'tomato-septoria-leaf-spot', 'tomato-spider-mites-two-spotted-spider-mite', 'tomato-target-spot', 'tomato-tomato-mosaic-virus', 'tomato-tomato-yellow-leaf-curl-virus']\n"
          ],
          "name": "stdout"
        }
      ]
    },
    {
      "cell_type": "markdown",
      "metadata": {
        "id": "771Imft_A70K",
        "colab_type": "text"
      },
      "source": [
        "## Visualize date"
      ]
    },
    {
      "cell_type": "code",
      "metadata": {
        "id": "Kf2hw7DkA-IY",
        "colab_type": "code",
        "outputId": "99dc87ca-2a11-437c-b9b1-6c512c9fe0a9",
        "colab": {
          "base_uri": "https://localhost:8080/",
          "height": 1000
        }
      },
      "source": [
        "def random_data_sample():\n",
        "    \"\"\"\n",
        "    Returns a random data sample from the training set\n",
        "    \"\"\"\n",
        "    random_index = np.random.randint(0, train_images.shape[0])\n",
        "    # Render the image\n",
        "    image_array = train_images[random_index]\n",
        "    class_label = train_labels[random_index] # an integral number in [0-38)\n",
        "    class_name = class_names[class_label] # a human readable class name\n",
        "    return image_array, class_label, class_name\n",
        "\n",
        "\n",
        "\n",
        "fig=plt.figure(figsize=(20, 20))\n",
        "w=10\n",
        "h=10\n",
        "columns = 4\n",
        "rows = 5\n",
        "for i in range(1, columns*rows +1):\n",
        "    img = np.random.randint(10, size=(h,w))\n",
        "    fig.add_subplot(rows, columns, i)\n",
        "    image,class_label,class_name=random_data_sample()\n",
        "    plt.imshow(image)\n",
        "    plt.title(class_name)"
      ],
      "execution_count": 21,
      "outputs": [
        {
          "output_type": "display_data",
          "data": {
            "image/png": "[encoded data removed]",
            "text/plain": [
              "<Figure size 1440x1440 with 20 Axes>"
            ]
          },
          "metadata": {
            "tags": [],
            "needs_background": "light"
          }
        }
      ]
    },
    {
      "cell_type": "markdown",
      "metadata": {
        "id": "U8Dol1hwEWy2",
        "colab_type": "text"
      },
      "source": [
        "## Distribution"
      ]
    },
    {
      "cell_type": "code",
      "metadata": {
        "id": "h_hc0IFHEYzd",
        "colab_type": "code",
        "outputId": "ab5410ff-0b35-4c1d-80d8-9ddcec3c630c",
        "colab": {
          "base_uri": "https://localhost:8080/",
          "height": 265
        }
      },
      "source": [
        "#data_counter = Counter(train_labels)\n",
        "#unique_class_indices = data_counter.keys()\n",
        "\n",
        "#for _class_index in unique_class_indices:\n",
        "#    print(\"Class Index : \", _class_index)\n",
        "#    print(\"Class Name : \", class_names[_class_index])\n",
        "#    print(\"Number of images in the dataset : \", data_counter[_class_index])\n",
        "#    print(\"=\"*100)\n",
        "\n",
        "\n",
        "\n",
        "plt.hist(train_labels, bins = len(np.unique(train_labels)))\n",
        "plt.show()\n"
      ],
      "execution_count": 22,
      "outputs": [
        {
          "output_type": "display_data",
          "data": {
            "image/png": "[encoded data removed]",
            "text/plain": [
              "<Figure size 432x288 with 1 Axes>"
            ]
          },
          "metadata": {
            "tags": [],
            "needs_background": "light"
          }
        }
      ]
    },
    {
      "cell_type": "code",
      "metadata": {
        "id": "FTZLU77mFy7F",
        "colab_type": "code",
        "colab": {}
      },
      "source": [
        "X_train, X_val= train_test_split(train_images, test_size=0.2, random_state=42)\n",
        "y_train, y_val= train_test_split(train_labels, test_size=0.2, random_state=42)"
      ],
      "execution_count": 0,
      "outputs": []
    },
    {
      "cell_type": "code",
      "metadata": {
        "id": "DTaWEkVXKx4N",
        "colab_type": "code",
        "outputId": "74ed49ac-d2d4-49c6-8c0f-fc30da7388d9",
        "colab": {
          "base_uri": "https://localhost:8080/",
          "height": 139
        }
      },
      "source": [
        "#X_train = X_train.astype('float32')/255\n",
        "#X_val = X_val.astype('float32')/255\n",
        "print(np.unique(y_train))\n",
        "class_weights = compute_class_weight('balanced',np.unique(y_train),y_train)\n",
        "class_weights = dict(enumerate(class_weights))\n",
        "print(class_weights)\n",
        "\n",
        "mean = np.mean(X_train)\n",
        "std = np.std(X_train)\n",
        "X_train = (X_train-mean)/(std+1e-7)\n",
        "X_val = (X_val-mean)/(std+1e-7)\n",
        "\n",
        "\n",
        "# one-hot encode the labels\n",
        "num_classes = len(np.unique(y_train))\n",
        "y_train = to_categorical(y_train, num_classes)\n",
        "y_val = to_categorical(y_val, num_classes)\n",
        "\n",
        "\n",
        "# print shape of training set\n",
        "print('x_train shape:', X_train.shape)\n",
        "\n",
        "# print number of training, validation, and test images\n",
        "print(X_train.shape[0], 'train samples')\n",
        "print(X_val.shape[0], 'validation samples')\n"
      ],
      "execution_count": 24,
      "outputs": [
        {
          "output_type": "stream",
          "text": [
            "[ 0  1  2  3  4  5  6  7  8  9 10 11 12 13 14 15 16 17 18 19 20 21 22 23\n",
            " 24 25 26 27 28 29 30 31 32 33 34 35 36 37]\n",
            "{0: 2.2318356867779205, 1: 2.3402880603042133, 2: 5.38266253869969, 3: 0.87564845127172, 4: 0.967286079893179, 5: 1.7429573934837093, 6: 1.3739529002686897, 7: 2.8506312510247582, 8: 1.1656721421387866, 9: 1.234888841537041, 10: 1.4034549564094285, 11: 1.1776739145160198, 12: 1.0727463441722713, 13: 3.3154080854309687, 14: 1.3556335282651073, 15: 0.25347718326286633, 16: 0.6174444207685205, 17: 3.8447589562140645, 18: 1.4253156255123791, 19: 0.9903167008430166, 20: 1.4342517736347138, 21: 9.946224256292906, 22: 1.471145709933999, 23: 3.927264513214366, 24: 0.2805188938010262, 25: 0.7689517912428129, 26: 3.0299756012547925, 27: 1.3034937771779878, 28: 0.6564222608170354, 29: 1.401305714515999, 30: 0.920576088107593, 31: 0.7427375256322625, 32: 1.5250877192982457, 33: 0.8206750059004012, 34: 0.8480561923808595, 35: 1.031626416661722, 36: 3.6749101669837243, 37: 0.2692123070252861}\n",
            "x_train shape: (34772, 32, 32, 3)\n",
            "34772 train samples\n",
            "8694 validation samples\n"
          ],
          "name": "stdout"
        }
      ]
    },
    {
      "cell_type": "code",
      "metadata": {
        "id": "ISqrIY-BOREE",
        "colab_type": "code",
        "outputId": "03515e47-25a4-460b-dd0d-fa3e6b94e11a",
        "colab": {
          "base_uri": "https://localhost:8080/",
          "height": 1000
        }
      },
      "source": [
        "# number of hidden units variable \n",
        "# we are declaring this variable here and use it in our CONV layers to make it easier to update from one place\n",
        "base_hidden_units = 32\n",
        "\n",
        "# l2 regularization hyperparameter\n",
        "weight_decay = 1e-4 \n",
        "\n",
        "# instantiate an empty sequential model \n",
        "model = Sequential()\n",
        "\n",
        "# CONV1\n",
        "# notice that we defined the input_shape here because this is the first CONV layer. \n",
        "# we don’t need to do that for the remaining layers\n",
        "model.add(Conv2D(base_hidden_units, (3,3), padding='same', kernel_regularizer=regularizers.l2(weight_decay), input_shape=X_train.shape[1:]))\n",
        "model.add(Activation('relu'))\n",
        "model.add(BatchNormalization())\n",
        "\n",
        "# CONV2\n",
        "model.add(Conv2D(base_hidden_units, (3,3), padding='same', kernel_regularizer=regularizers.l2(weight_decay)))\n",
        "model.add(Activation('relu'))\n",
        "model.add(BatchNormalization())\n",
        "model.add(MaxPooling2D(pool_size=(2,2)))\n",
        "model.add(Dropout(0.2))\n",
        "\n",
        "# CONV3\n",
        "model.add(Conv2D(2*base_hidden_units, (3,3), padding='same', kernel_regularizer=regularizers.l2(weight_decay)))\n",
        "model.add(Activation('relu'))\n",
        "model.add(BatchNormalization())\n",
        "\n",
        "# CONV4\n",
        "model.add(Conv2D(2*base_hidden_units, (3,3), padding='same', kernel_regularizer=regularizers.l2(weight_decay)))\n",
        "model.add(Activation('relu'))\n",
        "model.add(BatchNormalization())\n",
        "model.add(MaxPooling2D(pool_size=(2,2)))\n",
        "model.add(Dropout(0.3))\n",
        "\n",
        "# CONV5\n",
        "model.add(Conv2D(4*base_hidden_units, (3,3), padding='same', kernel_regularizer=regularizers.l2(weight_decay)))\n",
        "model.add(Activation('relu'))\n",
        "model.add(BatchNormalization())\n",
        "\n",
        "# CONV6\n",
        "model.add(Conv2D(4*base_hidden_units, (3,3), padding='same', kernel_regularizer=regularizers.l2(weight_decay)))\n",
        "model.add(Activation('relu'))\n",
        "model.add(BatchNormalization())\n",
        "model.add(MaxPooling2D(pool_size=(2,2)))\n",
        "model.add(Dropout(0.4))\n",
        "\n",
        "model.add(Flatten())\n",
        "\n",
        "model.add(Dense(1024, activation='relu'))\n",
        "model.add(BatchNormalization())\n",
        "model.add(Dropout(0.4))\n",
        "\n",
        "model.add(Dense(1024, activation='relu'))\n",
        "model.add(BatchNormalization())\n",
        "model.add(Dropout(0.4))\n",
        "\n",
        "# FC7\n",
        "#model.add(Flatten())\n",
        "model.add(Dense(num_classes, activation='softmax'))\n",
        "\n",
        "# print model summary\n",
        "model.summary()"
      ],
      "execution_count": 25,
      "outputs": [
        {
          "output_type": "stream",
          "text": [
            "Model: \"sequential_1\"\n",
            "_________________________________________________________________\n",
            "Layer (type)                 Output Shape              Param #   \n",
            "=================================================================\n",
            "conv2d_6 (Conv2D)            (None, 32, 32, 32)        896       \n",
            "_________________________________________________________________\n",
            "activation_6 (Activation)    (None, 32, 32, 32)        0         \n",
            "_________________________________________________________________\n",
            "batch_normalization_8 (Batch (None, 32, 32, 32)        128       \n",
            "_________________________________________________________________\n",
            "conv2d_7 (Conv2D)            (None, 32, 32, 32)        9248      \n",
            "_________________________________________________________________\n",
            "activation_7 (Activation)    (None, 32, 32, 32)        0         \n",
            "_________________________________________________________________\n",
            "batch_normalization_9 (Batch (None, 32, 32, 32)        128       \n",
            "_________________________________________________________________\n",
            "max_pooling2d_3 (MaxPooling2 (None, 16, 16, 32)        0         \n",
            "_________________________________________________________________\n",
            "dropout_5 (Dropout)          (None, 16, 16, 32)        0         \n",
            "_________________________________________________________________\n",
            "conv2d_8 (Conv2D)            (None, 16, 16, 64)        18496     \n",
            "_________________________________________________________________\n",
            "activation_8 (Activation)    (None, 16, 16, 64)        0         \n",
            "_________________________________________________________________\n",
            "batch_normalization_10 (Batc (None, 16, 16, 64)        256       \n",
            "_________________________________________________________________\n",
            "conv2d_9 (Conv2D)            (None, 16, 16, 64)        36928     \n",
            "_________________________________________________________________\n",
            "activation_9 (Activation)    (None, 16, 16, 64)        0         \n",
            "_________________________________________________________________\n",
            "batch_normalization_11 (Batc (None, 16, 16, 64)        256       \n",
            "_________________________________________________________________\n",
            "max_pooling2d_4 (MaxPooling2 (None, 8, 8, 64)          0         \n",
            "_________________________________________________________________\n",
            "dropout_6 (Dropout)          (None, 8, 8, 64)          0         \n",
            "_________________________________________________________________\n",
            "conv2d_10 (Conv2D)           (None, 8, 8, 128)         73856     \n",
            "_________________________________________________________________\n",
            "activation_10 (Activation)   (None, 8, 8, 128)         0         \n",
            "_________________________________________________________________\n",
            "batch_normalization_12 (Batc (None, 8, 8, 128)         512       \n",
            "_________________________________________________________________\n",
            "conv2d_11 (Conv2D)           (None, 8, 8, 128)         147584    \n",
            "_________________________________________________________________\n",
            "activation_11 (Activation)   (None, 8, 8, 128)         0         \n",
            "_________________________________________________________________\n",
            "batch_normalization_13 (Batc (None, 8, 8, 128)         512       \n",
            "_________________________________________________________________\n",
            "max_pooling2d_5 (MaxPooling2 (None, 4, 4, 128)         0         \n",
            "_________________________________________________________________\n",
            "dropout_7 (Dropout)          (None, 4, 4, 128)         0         \n",
            "_________________________________________________________________\n",
            "flatten_1 (Flatten)          (None, 2048)              0         \n",
            "_________________________________________________________________\n",
            "dense_3 (Dense)              (None, 1024)              2098176   \n",
            "_________________________________________________________________\n",
            "batch_normalization_14 (Batc (None, 1024)              4096      \n",
            "_________________________________________________________________\n",
            "dropout_8 (Dropout)          (None, 1024)              0         \n",
            "_________________________________________________________________\n",
            "dense_4 (Dense)              (None, 1024)              1049600   \n",
            "_________________________________________________________________\n",
            "batch_normalization_15 (Batc (None, 1024)              4096      \n",
            "_________________________________________________________________\n",
            "dropout_9 (Dropout)          (None, 1024)              0         \n",
            "_________________________________________________________________\n",
            "dense_5 (Dense)              (None, 38)                38950     \n",
            "=================================================================\n",
            "Total params: 3,483,718\n",
            "Trainable params: 3,478,726\n",
            "Non-trainable params: 4,992\n",
            "_________________________________________________________________\n"
          ],
          "name": "stdout"
        }
      ]
    },
    {
      "cell_type": "code",
      "metadata": {
        "id": "spxsksbLdfAw",
        "colab_type": "code",
        "colab": {}
      },
      "source": [
        "datagen = ImageDataGenerator(\n",
        "    featurewise_center=False,\n",
        "    samplewise_center=False,\n",
        "    featurewise_std_normalization=False,\n",
        "    samplewise_std_normalization=False,\n",
        "    zca_whitening=False,\n",
        "    rotation_range=15,\n",
        "    width_shift_range=0.1,\n",
        "    height_shift_range=0.1,\n",
        "    horizontal_flip=True,\n",
        "    vertical_flip=False\n",
        "    )\n",
        "\n",
        "# compute the data augmentation on the training set\n",
        "datagen.fit(X_train)"
      ],
      "execution_count": 0,
      "outputs": []
    },
    {
      "cell_type": "code",
      "metadata": {
        "id": "H0_H3kZ_oa6o",
        "colab_type": "code",
        "colab": {}
      },
      "source": [
        "optimizer = Adam(lr=0.001,decay=1e-6)\n",
        "\n",
        "model.compile(loss='categorical_crossentropy', optimizer=optimizer, \n",
        "              metrics=['accuracy'])"
      ],
      "execution_count": 0,
      "outputs": []
    },
    {
      "cell_type": "code",
      "metadata": {
        "id": "sg9XdiT6Ou9o",
        "colab_type": "code",
        "outputId": "6448c8c8-c941-47d8-a0ed-3e9f5a2a3981",
        "colab": {
          "base_uri": "https://localhost:8080/",
          "height": 1000
        }
      },
      "source": [
        "# compile the model\n",
        "\n",
        "\n",
        "lrr= ReduceLROnPlateau(\n",
        "                      monitor='val_loss', #Metric to be measured\n",
        "                       factor=.5, #Factor by which learning rate will be reduced\n",
        "                       patience=5,  #No. of epochs after which if there is no improvement in the val_acc, the learning rate is reduced\n",
        "                       min_lr=1e-6) #The minimum learning rate \n",
        "\n",
        "model_checkpoint=ModelCheckpoint(filepath=\"best_model.hdf5\",verbose=1,save_best_only=True)\n",
        "wand_callback=WandbCallback()\n",
        "\n",
        "batch_size=128\n",
        "\n",
        "history=model.fit(datagen.flow(X_train, y_train, batch_size=batch_size),steps_per_epoch=X_train.shape[0] // batch_size,epochs=100,verbose=2,\n",
        "          callbacks=[model_checkpoint,wand_callback,lrr],validation_data=(X_val,y_val),shuffle=True)"
      ],
      "execution_count": 28,
      "outputs": [
        {
          "output_type": "stream",
          "text": [
            "Epoch 1/100\n"
          ],
          "name": "stdout"
        },
        {
          "output_type": "stream",
          "text": [
            "\u001b[34m\u001b[1mwandb\u001b[0m: Wandb version 0.8.35 is available!  To upgrade, please run:\n",
            "\u001b[34m\u001b[1mwandb\u001b[0m:  $ pip install wandb --upgrade\n"
          ],
          "name": "stderr"
        },
        {
          "output_type": "stream",
          "text": [
            "WARNING:tensorflow:Method (on_train_batch_end) is slow compared to the batch update (0.184485). Check your callbacks.\n",
            "\n",
            "Epoch 00001: val_loss improved from inf to 3.56400, saving model to best_model.hdf5\n",
            "271/271 - 27s - loss: 1.7384 - accuracy: 0.5475 - val_loss: 3.5640 - val_accuracy: 0.3252 - lr: 0.0010\n",
            "Epoch 2/100\n",
            "\n",
            "Epoch 00002: val_loss improved from 3.56400 to 0.60628, saving model to best_model.hdf5\n",
            "271/271 - 27s - loss: 0.8571 - accuracy: 0.7469 - val_loss: 0.6063 - val_accuracy: 0.8278 - lr: 0.0010\n",
            "Epoch 3/100\n",
            "\n",
            "Epoch 00003: val_loss did not improve from 0.60628\n",
            "271/271 - 26s - loss: 0.6270 - accuracy: 0.8132 - val_loss: 0.7381 - val_accuracy: 0.7948 - lr: 0.0010\n",
            "Epoch 4/100\n",
            "\n",
            "Epoch 00004: val_loss did not improve from 0.60628\n",
            "271/271 - 26s - loss: 0.5129 - accuracy: 0.8488 - val_loss: 1.1786 - val_accuracy: 0.7143 - lr: 0.0010\n",
            "Epoch 5/100\n",
            "\n",
            "Epoch 00005: val_loss improved from 0.60628 to 0.54324, saving model to best_model.hdf5\n",
            "271/271 - 27s - loss: 0.4373 - accuracy: 0.8720 - val_loss: 0.5432 - val_accuracy: 0.8463 - lr: 0.0010\n",
            "Epoch 6/100\n",
            "\n",
            "Epoch 00006: val_loss did not improve from 0.54324\n",
            "271/271 - 26s - loss: 0.3783 - accuracy: 0.8907 - val_loss: 0.9104 - val_accuracy: 0.7747 - lr: 0.0010\n",
            "Epoch 7/100\n",
            "\n",
            "Epoch 00007: val_loss improved from 0.54324 to 0.33403, saving model to best_model.hdf5\n",
            "271/271 - 27s - loss: 0.3424 - accuracy: 0.9027 - val_loss: 0.3340 - val_accuracy: 0.9074 - lr: 0.0010\n",
            "Epoch 8/100\n",
            "\n",
            "Epoch 00008: val_loss did not improve from 0.33403\n",
            "271/271 - 26s - loss: 0.3111 - accuracy: 0.9117 - val_loss: 0.4568 - val_accuracy: 0.8757 - lr: 0.0010\n",
            "Epoch 9/100\n",
            "\n",
            "Epoch 00009: val_loss did not improve from 0.33403\n",
            "271/271 - 26s - loss: 0.2890 - accuracy: 0.9197 - val_loss: 0.3342 - val_accuracy: 0.9113 - lr: 0.0010\n",
            "Epoch 10/100\n",
            "\n",
            "Epoch 00010: val_loss improved from 0.33403 to 0.30616, saving model to best_model.hdf5\n",
            "271/271 - 27s - loss: 0.2719 - accuracy: 0.9265 - val_loss: 0.3062 - val_accuracy: 0.9174 - lr: 0.0010\n",
            "Epoch 11/100\n",
            "\n",
            "Epoch 00011: val_loss did not improve from 0.30616\n",
            "271/271 - 26s - loss: 0.2561 - accuracy: 0.9327 - val_loss: 0.3077 - val_accuracy: 0.9175 - lr: 0.0010\n",
            "Epoch 12/100\n",
            "\n",
            "Epoch 00012: val_loss did not improve from 0.30616\n",
            "271/271 - 26s - loss: 0.2424 - accuracy: 0.9374 - val_loss: 0.3322 - val_accuracy: 0.9084 - lr: 0.0010\n",
            "Epoch 13/100\n",
            "\n",
            "Epoch 00013: val_loss improved from 0.30616 to 0.24710, saving model to best_model.hdf5\n",
            "271/271 - 28s - loss: 0.2430 - accuracy: 0.9368 - val_loss: 0.2471 - val_accuracy: 0.9403 - lr: 0.0010\n",
            "Epoch 14/100\n",
            "\n",
            "Epoch 00014: val_loss did not improve from 0.24710\n",
            "271/271 - 26s - loss: 0.2394 - accuracy: 0.9403 - val_loss: 0.2870 - val_accuracy: 0.9277 - lr: 0.0010\n",
            "Epoch 15/100\n",
            "\n",
            "Epoch 00015: val_loss did not improve from 0.24710\n",
            "271/271 - 26s - loss: 0.2249 - accuracy: 0.9439 - val_loss: 0.3377 - val_accuracy: 0.9089 - lr: 0.0010\n",
            "Epoch 16/100\n",
            "\n",
            "Epoch 00016: val_loss did not improve from 0.24710\n",
            "271/271 - 26s - loss: 0.2219 - accuracy: 0.9454 - val_loss: 0.3265 - val_accuracy: 0.9201 - lr: 0.0010\n",
            "Epoch 17/100\n",
            "\n",
            "Epoch 00017: val_loss improved from 0.24710 to 0.24400, saving model to best_model.hdf5\n",
            "271/271 - 27s - loss: 0.2063 - accuracy: 0.9503 - val_loss: 0.2440 - val_accuracy: 0.9418 - lr: 0.0010\n",
            "Epoch 18/100\n",
            "\n",
            "Epoch 00018: val_loss did not improve from 0.24400\n",
            "271/271 - 26s - loss: 0.2022 - accuracy: 0.9538 - val_loss: 0.3856 - val_accuracy: 0.8984 - lr: 0.0010\n",
            "Epoch 19/100\n",
            "\n",
            "Epoch 00019: val_loss did not improve from 0.24400\n",
            "271/271 - 26s - loss: 0.2094 - accuracy: 0.9525 - val_loss: 0.3106 - val_accuracy: 0.9232 - lr: 0.0010\n",
            "Epoch 20/100\n",
            "\n",
            "Epoch 00020: val_loss did not improve from 0.24400\n",
            "271/271 - 26s - loss: 0.1993 - accuracy: 0.9549 - val_loss: 0.2623 - val_accuracy: 0.9392 - lr: 0.0010\n",
            "Epoch 21/100\n",
            "\n",
            "Epoch 00021: val_loss did not improve from 0.24400\n",
            "271/271 - 26s - loss: 0.1947 - accuracy: 0.9575 - val_loss: 0.2699 - val_accuracy: 0.9352 - lr: 0.0010\n",
            "Epoch 22/100\n",
            "\n",
            "Epoch 00022: val_loss did not improve from 0.24400\n",
            "271/271 - 26s - loss: 0.1989 - accuracy: 0.9559 - val_loss: 0.4268 - val_accuracy: 0.9027 - lr: 0.0010\n",
            "Epoch 23/100\n",
            "\n",
            "Epoch 00023: val_loss improved from 0.24400 to 0.20842, saving model to best_model.hdf5\n",
            "271/271 - 27s - loss: 0.1488 - accuracy: 0.9715 - val_loss: 0.2084 - val_accuracy: 0.9577 - lr: 5.0000e-04\n",
            "Epoch 24/100\n",
            "\n",
            "Epoch 00024: val_loss improved from 0.20842 to 0.17800, saving model to best_model.hdf5\n",
            "271/271 - 27s - loss: 0.1383 - accuracy: 0.9753 - val_loss: 0.1780 - val_accuracy: 0.9633 - lr: 5.0000e-04\n",
            "Epoch 25/100\n",
            "\n",
            "Epoch 00025: val_loss did not improve from 0.17800\n",
            "271/271 - 26s - loss: 0.1323 - accuracy: 0.9770 - val_loss: 0.2050 - val_accuracy: 0.9535 - lr: 5.0000e-04\n",
            "Epoch 26/100\n",
            "\n",
            "Epoch 00026: val_loss improved from 0.17800 to 0.14852, saving model to best_model.hdf5\n",
            "271/271 - 27s - loss: 0.1329 - accuracy: 0.9761 - val_loss: 0.1485 - val_accuracy: 0.9723 - lr: 5.0000e-04\n",
            "Epoch 27/100\n",
            "\n",
            "Epoch 00027: val_loss did not improve from 0.14852\n",
            "271/271 - 26s - loss: 0.1277 - accuracy: 0.9772 - val_loss: 0.1829 - val_accuracy: 0.9623 - lr: 5.0000e-04\n",
            "Epoch 28/100\n",
            "\n",
            "Epoch 00028: val_loss did not improve from 0.14852\n",
            "271/271 - 26s - loss: 0.1274 - accuracy: 0.9772 - val_loss: 0.2022 - val_accuracy: 0.9570 - lr: 5.0000e-04\n",
            "Epoch 29/100\n",
            "\n",
            "Epoch 00029: val_loss improved from 0.14852 to 0.13469, saving model to best_model.hdf5\n",
            "271/271 - 27s - loss: 0.1274 - accuracy: 0.9765 - val_loss: 0.1347 - val_accuracy: 0.9749 - lr: 5.0000e-04\n",
            "Epoch 30/100\n",
            "\n",
            "Epoch 00030: val_loss did not improve from 0.13469\n",
            "271/271 - 26s - loss: 0.1254 - accuracy: 0.9766 - val_loss: 0.2120 - val_accuracy: 0.9495 - lr: 5.0000e-04\n",
            "Epoch 31/100\n",
            "\n",
            "Epoch 00031: val_loss did not improve from 0.13469\n",
            "271/271 - 26s - loss: 0.1269 - accuracy: 0.9768 - val_loss: 0.1970 - val_accuracy: 0.9595 - lr: 5.0000e-04\n",
            "Epoch 32/100\n",
            "\n",
            "Epoch 00032: val_loss did not improve from 0.13469\n",
            "271/271 - 26s - loss: 0.1254 - accuracy: 0.9771 - val_loss: 0.1574 - val_accuracy: 0.9680 - lr: 5.0000e-04\n",
            "Epoch 33/100\n",
            "\n",
            "Epoch 00033: val_loss did not improve from 0.13469\n",
            "271/271 - 26s - loss: 0.1223 - accuracy: 0.9777 - val_loss: 0.2042 - val_accuracy: 0.9551 - lr: 5.0000e-04\n",
            "Epoch 34/100\n",
            "\n",
            "Epoch 00034: val_loss did not improve from 0.13469\n",
            "271/271 - 26s - loss: 0.1254 - accuracy: 0.9776 - val_loss: 0.1906 - val_accuracy: 0.9578 - lr: 5.0000e-04\n",
            "Epoch 35/100\n",
            "\n",
            "Epoch 00035: val_loss did not improve from 0.13469\n",
            "271/271 - 26s - loss: 0.1012 - accuracy: 0.9844 - val_loss: 0.1470 - val_accuracy: 0.9699 - lr: 2.5000e-04\n",
            "Epoch 36/100\n",
            "\n",
            "Epoch 00036: val_loss did not improve from 0.13469\n",
            "271/271 - 26s - loss: 0.0970 - accuracy: 0.9859 - val_loss: 0.1655 - val_accuracy: 0.9623 - lr: 2.5000e-04\n",
            "Epoch 37/100\n",
            "\n",
            "Epoch 00037: val_loss did not improve from 0.13469\n",
            "271/271 - 26s - loss: 0.0947 - accuracy: 0.9868 - val_loss: 0.1999 - val_accuracy: 0.9546 - lr: 2.5000e-04\n",
            "Epoch 38/100\n",
            "\n",
            "Epoch 00038: val_loss did not improve from 0.13469\n",
            "271/271 - 26s - loss: 0.0932 - accuracy: 0.9860 - val_loss: 0.1585 - val_accuracy: 0.9673 - lr: 2.5000e-04\n",
            "Epoch 39/100\n",
            "\n",
            "Epoch 00039: val_loss did not improve from 0.13469\n",
            "271/271 - 26s - loss: 0.0899 - accuracy: 0.9871 - val_loss: 0.1631 - val_accuracy: 0.9670 - lr: 2.5000e-04\n",
            "Epoch 40/100\n",
            "\n",
            "Epoch 00040: val_loss did not improve from 0.13469\n",
            "271/271 - 26s - loss: 0.0811 - accuracy: 0.9901 - val_loss: 0.1364 - val_accuracy: 0.9746 - lr: 1.2500e-04\n",
            "Epoch 41/100\n",
            "\n",
            "Epoch 00041: val_loss improved from 0.13469 to 0.12456, saving model to best_model.hdf5\n",
            "271/271 - 28s - loss: 0.0832 - accuracy: 0.9898 - val_loss: 0.1246 - val_accuracy: 0.9778 - lr: 1.2500e-04\n",
            "Epoch 42/100\n",
            "\n",
            "Epoch 00042: val_loss did not improve from 0.12456\n",
            "271/271 - 26s - loss: 0.0779 - accuracy: 0.9913 - val_loss: 0.1266 - val_accuracy: 0.9775 - lr: 1.2500e-04\n",
            "Epoch 43/100\n",
            "\n",
            "Epoch 00043: val_loss improved from 0.12456 to 0.11920, saving model to best_model.hdf5\n",
            "271/271 - 28s - loss: 0.0799 - accuracy: 0.9906 - val_loss: 0.1192 - val_accuracy: 0.9788 - lr: 1.2500e-04\n",
            "Epoch 44/100\n",
            "\n",
            "Epoch 00044: val_loss improved from 0.11920 to 0.11606, saving model to best_model.hdf5\n",
            "271/271 - 27s - loss: 0.0775 - accuracy: 0.9903 - val_loss: 0.1161 - val_accuracy: 0.9794 - lr: 1.2500e-04\n",
            "Epoch 45/100\n",
            "\n",
            "Epoch 00045: val_loss did not improve from 0.11606\n",
            "271/271 - 26s - loss: 0.0764 - accuracy: 0.9912 - val_loss: 0.1251 - val_accuracy: 0.9788 - lr: 1.2500e-04\n",
            "Epoch 46/100\n",
            "\n",
            "Epoch 00046: val_loss did not improve from 0.11606\n",
            "271/271 - 26s - loss: 0.0764 - accuracy: 0.9909 - val_loss: 0.1191 - val_accuracy: 0.9793 - lr: 1.2500e-04\n",
            "Epoch 47/100\n",
            "\n",
            "Epoch 00047: val_loss did not improve from 0.11606\n",
            "271/271 - 26s - loss: 0.0755 - accuracy: 0.9909 - val_loss: 0.1271 - val_accuracy: 0.9746 - lr: 1.2500e-04\n",
            "Epoch 48/100\n",
            "\n",
            "Epoch 00048: val_loss improved from 0.11606 to 0.11251, saving model to best_model.hdf5\n",
            "271/271 - 28s - loss: 0.0746 - accuracy: 0.9915 - val_loss: 0.1125 - val_accuracy: 0.9798 - lr: 1.2500e-04\n",
            "Epoch 49/100\n",
            "\n",
            "Epoch 00049: val_loss did not improve from 0.11251\n",
            "271/271 - 26s - loss: 0.0744 - accuracy: 0.9910 - val_loss: 0.1192 - val_accuracy: 0.9780 - lr: 1.2500e-04\n",
            "Epoch 50/100\n",
            "\n",
            "Epoch 00050: val_loss did not improve from 0.11251\n",
            "271/271 - 26s - loss: 0.0743 - accuracy: 0.9910 - val_loss: 0.1172 - val_accuracy: 0.9777 - lr: 1.2500e-04\n",
            "Epoch 51/100\n",
            "\n",
            "Epoch 00051: val_loss did not improve from 0.11251\n",
            "271/271 - 26s - loss: 0.0723 - accuracy: 0.9917 - val_loss: 0.1314 - val_accuracy: 0.9746 - lr: 1.2500e-04\n",
            "Epoch 52/100\n",
            "\n",
            "Epoch 00052: val_loss did not improve from 0.11251\n",
            "271/271 - 26s - loss: 0.0720 - accuracy: 0.9917 - val_loss: 0.1395 - val_accuracy: 0.9708 - lr: 1.2500e-04\n",
            "Epoch 53/100\n",
            "\n",
            "Epoch 00053: val_loss did not improve from 0.11251\n",
            "271/271 - 26s - loss: 0.0704 - accuracy: 0.9917 - val_loss: 0.1153 - val_accuracy: 0.9794 - lr: 1.2500e-04\n",
            "Epoch 54/100\n",
            "\n",
            "Epoch 00054: val_loss improved from 0.11251 to 0.10400, saving model to best_model.hdf5\n",
            "271/271 - 27s - loss: 0.0665 - accuracy: 0.9926 - val_loss: 0.1040 - val_accuracy: 0.9836 - lr: 6.2500e-05\n",
            "Epoch 55/100\n",
            "\n",
            "Epoch 00055: val_loss did not improve from 0.10400\n",
            "271/271 - 26s - loss: 0.0665 - accuracy: 0.9930 - val_loss: 0.1245 - val_accuracy: 0.9771 - lr: 6.2500e-05\n",
            "Epoch 56/100\n",
            "\n",
            "Epoch 00056: val_loss did not improve from 0.10400\n",
            "271/271 - 26s - loss: 0.0668 - accuracy: 0.9925 - val_loss: 0.1152 - val_accuracy: 0.9799 - lr: 6.2500e-05\n",
            "Epoch 57/100\n",
            "\n",
            "Epoch 00057: val_loss did not improve from 0.10400\n",
            "271/271 - 26s - loss: 0.0648 - accuracy: 0.9933 - val_loss: 0.1050 - val_accuracy: 0.9827 - lr: 6.2500e-05\n",
            "Epoch 58/100\n",
            "\n",
            "Epoch 00058: val_loss did not improve from 0.10400\n",
            "271/271 - 26s - loss: 0.0670 - accuracy: 0.9924 - val_loss: 0.1088 - val_accuracy: 0.9811 - lr: 6.2500e-05\n",
            "Epoch 59/100\n",
            "\n",
            "Epoch 00059: val_loss did not improve from 0.10400\n",
            "271/271 - 26s - loss: 0.0644 - accuracy: 0.9932 - val_loss: 0.1124 - val_accuracy: 0.9792 - lr: 6.2500e-05\n",
            "Epoch 60/100\n",
            "\n",
            "Epoch 00060: val_loss did not improve from 0.10400\n",
            "271/271 - 26s - loss: 0.0614 - accuracy: 0.9942 - val_loss: 0.1089 - val_accuracy: 0.9803 - lr: 3.1250e-05\n",
            "Epoch 61/100\n",
            "\n",
            "Epoch 00061: val_loss did not improve from 0.10400\n",
            "271/271 - 26s - loss: 0.0608 - accuracy: 0.9946 - val_loss: 0.1146 - val_accuracy: 0.9783 - lr: 3.1250e-05\n",
            "Epoch 62/100\n",
            "\n",
            "Epoch 00062: val_loss did not improve from 0.10400\n",
            "271/271 - 26s - loss: 0.0615 - accuracy: 0.9939 - val_loss: 0.1077 - val_accuracy: 0.9813 - lr: 3.1250e-05\n",
            "Epoch 63/100\n",
            "\n",
            "Epoch 00063: val_loss did not improve from 0.10400\n",
            "271/271 - 26s - loss: 0.0617 - accuracy: 0.9942 - val_loss: 0.1080 - val_accuracy: 0.9814 - lr: 3.1250e-05\n",
            "Epoch 64/100\n",
            "\n",
            "Epoch 00064: val_loss did not improve from 0.10400\n",
            "271/271 - 26s - loss: 0.0606 - accuracy: 0.9950 - val_loss: 0.1117 - val_accuracy: 0.9804 - lr: 3.1250e-05\n",
            "Epoch 65/100\n",
            "\n",
            "Epoch 00065: val_loss did not improve from 0.10400\n",
            "271/271 - 26s - loss: 0.0595 - accuracy: 0.9951 - val_loss: 0.1051 - val_accuracy: 0.9824 - lr: 1.5625e-05\n",
            "Epoch 66/100\n",
            "\n",
            "Epoch 00066: val_loss improved from 0.10400 to 0.10398, saving model to best_model.hdf5\n",
            "271/271 - 28s - loss: 0.0587 - accuracy: 0.9947 - val_loss: 0.1040 - val_accuracy: 0.9824 - lr: 1.5625e-05\n",
            "Epoch 67/100\n",
            "\n",
            "Epoch 00067: val_loss did not improve from 0.10398\n",
            "271/271 - 26s - loss: 0.0586 - accuracy: 0.9952 - val_loss: 0.1088 - val_accuracy: 0.9806 - lr: 1.5625e-05\n",
            "Epoch 68/100\n",
            "\n",
            "Epoch 00068: val_loss did not improve from 0.10398\n",
            "271/271 - 26s - loss: 0.0603 - accuracy: 0.9943 - val_loss: 0.1040 - val_accuracy: 0.9823 - lr: 1.5625e-05\n",
            "Epoch 69/100\n",
            "\n",
            "Epoch 00069: val_loss did not improve from 0.10398\n",
            "271/271 - 26s - loss: 0.0597 - accuracy: 0.9944 - val_loss: 0.1065 - val_accuracy: 0.9814 - lr: 1.5625e-05\n",
            "Epoch 70/100\n",
            "\n",
            "Epoch 00070: val_loss did not improve from 0.10398\n",
            "271/271 - 26s - loss: 0.0593 - accuracy: 0.9948 - val_loss: 0.1051 - val_accuracy: 0.9823 - lr: 7.8125e-06\n",
            "Epoch 71/100\n",
            "\n",
            "Epoch 00071: val_loss improved from 0.10398 to 0.10289, saving model to best_model.hdf5\n",
            "271/271 - 27s - loss: 0.0593 - accuracy: 0.9949 - val_loss: 0.1029 - val_accuracy: 0.9825 - lr: 7.8125e-06\n",
            "Epoch 72/100\n",
            "\n",
            "Epoch 00072: val_loss did not improve from 0.10289\n",
            "271/271 - 26s - loss: 0.0607 - accuracy: 0.9941 - val_loss: 0.1045 - val_accuracy: 0.9823 - lr: 7.8125e-06\n",
            "Epoch 73/100\n",
            "\n",
            "Epoch 00073: val_loss did not improve from 0.10289\n",
            "271/271 - 26s - loss: 0.0590 - accuracy: 0.9949 - val_loss: 0.1063 - val_accuracy: 0.9815 - lr: 7.8125e-06\n",
            "Epoch 74/100\n",
            "\n",
            "Epoch 00074: val_loss did not improve from 0.10289\n",
            "271/271 - 26s - loss: 0.0593 - accuracy: 0.9944 - val_loss: 0.1055 - val_accuracy: 0.9819 - lr: 7.8125e-06\n",
            "Epoch 75/100\n",
            "\n",
            "Epoch 00075: val_loss did not improve from 0.10289\n",
            "271/271 - 26s - loss: 0.0583 - accuracy: 0.9949 - val_loss: 0.1042 - val_accuracy: 0.9818 - lr: 7.8125e-06\n",
            "Epoch 76/100\n",
            "\n",
            "Epoch 00076: val_loss did not improve from 0.10289\n",
            "271/271 - 26s - loss: 0.0610 - accuracy: 0.9937 - val_loss: 0.1032 - val_accuracy: 0.9826 - lr: 7.8125e-06\n",
            "Epoch 77/100\n",
            "\n",
            "Epoch 00077: val_loss improved from 0.10289 to 0.10203, saving model to best_model.hdf5\n",
            "271/271 - 27s - loss: 0.0579 - accuracy: 0.9949 - val_loss: 0.1020 - val_accuracy: 0.9825 - lr: 3.9063e-06\n",
            "Epoch 78/100\n",
            "\n",
            "Epoch 00078: val_loss improved from 0.10203 to 0.10127, saving model to best_model.hdf5\n",
            "271/271 - 28s - loss: 0.0584 - accuracy: 0.9950 - val_loss: 0.1013 - val_accuracy: 0.9827 - lr: 3.9063e-06\n",
            "Epoch 79/100\n",
            "\n",
            "Epoch 00079: val_loss did not improve from 0.10127\n",
            "271/271 - 26s - loss: 0.0590 - accuracy: 0.9945 - val_loss: 0.1026 - val_accuracy: 0.9826 - lr: 3.9063e-06\n",
            "Epoch 80/100\n",
            "\n",
            "Epoch 00080: val_loss did not improve from 0.10127\n",
            "271/271 - 26s - loss: 0.0591 - accuracy: 0.9945 - val_loss: 0.1035 - val_accuracy: 0.9823 - lr: 3.9063e-06\n",
            "Epoch 81/100\n",
            "\n",
            "Epoch 00081: val_loss did not improve from 0.10127\n",
            "271/271 - 26s - loss: 0.0593 - accuracy: 0.9945 - val_loss: 0.1029 - val_accuracy: 0.9824 - lr: 3.9063e-06\n",
            "Epoch 82/100\n",
            "\n",
            "Epoch 00082: val_loss did not improve from 0.10127\n",
            "271/271 - 26s - loss: 0.0587 - accuracy: 0.9953 - val_loss: 0.1026 - val_accuracy: 0.9827 - lr: 3.9063e-06\n",
            "Epoch 83/100\n",
            "\n",
            "Epoch 00083: val_loss improved from 0.10127 to 0.10114, saving model to best_model.hdf5\n",
            "271/271 - 27s - loss: 0.0578 - accuracy: 0.9951 - val_loss: 0.1011 - val_accuracy: 0.9825 - lr: 3.9063e-06\n",
            "Epoch 84/100\n",
            "\n",
            "Epoch 00084: val_loss did not improve from 0.10114\n",
            "271/271 - 26s - loss: 0.0585 - accuracy: 0.9947 - val_loss: 0.1015 - val_accuracy: 0.9829 - lr: 3.9063e-06\n",
            "Epoch 85/100\n",
            "\n",
            "Epoch 00085: val_loss did not improve from 0.10114\n",
            "271/271 - 26s - loss: 0.0580 - accuracy: 0.9947 - val_loss: 0.1024 - val_accuracy: 0.9825 - lr: 3.9063e-06\n",
            "Epoch 86/100\n",
            "\n",
            "Epoch 00086: val_loss did not improve from 0.10114\n",
            "271/271 - 26s - loss: 0.0583 - accuracy: 0.9945 - val_loss: 0.1013 - val_accuracy: 0.9832 - lr: 3.9063e-06\n",
            "Epoch 87/100\n",
            "\n",
            "Epoch 00087: val_loss did not improve from 0.10114\n",
            "271/271 - 26s - loss: 0.0576 - accuracy: 0.9954 - val_loss: 0.1038 - val_accuracy: 0.9821 - lr: 3.9063e-06\n",
            "Epoch 88/100\n",
            "\n",
            "Epoch 00088: val_loss did not improve from 0.10114\n",
            "271/271 - 26s - loss: 0.0586 - accuracy: 0.9949 - val_loss: 0.1024 - val_accuracy: 0.9831 - lr: 3.9063e-06\n",
            "Epoch 89/100\n",
            "\n",
            "Epoch 00089: val_loss did not improve from 0.10114\n",
            "271/271 - 26s - loss: 0.0572 - accuracy: 0.9953 - val_loss: 0.1017 - val_accuracy: 0.9829 - lr: 1.9531e-06\n",
            "Epoch 90/100\n",
            "\n",
            "Epoch 00090: val_loss did not improve from 0.10114\n",
            "271/271 - 26s - loss: 0.0571 - accuracy: 0.9951 - val_loss: 0.1025 - val_accuracy: 0.9827 - lr: 1.9531e-06\n",
            "Epoch 91/100\n",
            "\n",
            "Epoch 00091: val_loss did not improve from 0.10114\n",
            "271/271 - 26s - loss: 0.0586 - accuracy: 0.9951 - val_loss: 0.1016 - val_accuracy: 0.9830 - lr: 1.9531e-06\n",
            "Epoch 92/100\n",
            "\n",
            "Epoch 00092: val_loss did not improve from 0.10114\n",
            "271/271 - 26s - loss: 0.0576 - accuracy: 0.9954 - val_loss: 0.1025 - val_accuracy: 0.9829 - lr: 1.9531e-06\n",
            "Epoch 93/100\n",
            "\n",
            "Epoch 00093: val_loss did not improve from 0.10114\n",
            "271/271 - 26s - loss: 0.0590 - accuracy: 0.9948 - val_loss: 0.1021 - val_accuracy: 0.9827 - lr: 1.9531e-06\n",
            "Epoch 94/100\n",
            "\n",
            "Epoch 00094: val_loss did not improve from 0.10114\n",
            "271/271 - 26s - loss: 0.0591 - accuracy: 0.9948 - val_loss: 0.1019 - val_accuracy: 0.9832 - lr: 1.0000e-06\n",
            "Epoch 95/100\n",
            "\n",
            "Epoch 00095: val_loss did not improve from 0.10114\n",
            "271/271 - 26s - loss: 0.0575 - accuracy: 0.9948 - val_loss: 0.1019 - val_accuracy: 0.9830 - lr: 1.0000e-06\n",
            "Epoch 96/100\n",
            "\n",
            "Epoch 00096: val_loss did not improve from 0.10114\n",
            "271/271 - 26s - loss: 0.0577 - accuracy: 0.9949 - val_loss: 0.1014 - val_accuracy: 0.9830 - lr: 1.0000e-06\n",
            "Epoch 97/100\n",
            "\n",
            "Epoch 00097: val_loss did not improve from 0.10114\n",
            "271/271 - 26s - loss: 0.0593 - accuracy: 0.9943 - val_loss: 0.1021 - val_accuracy: 0.9827 - lr: 1.0000e-06\n",
            "Epoch 98/100\n",
            "\n",
            "Epoch 00098: val_loss improved from 0.10114 to 0.10098, saving model to best_model.hdf5\n",
            "271/271 - 27s - loss: 0.0595 - accuracy: 0.9945 - val_loss: 0.1010 - val_accuracy: 0.9827 - lr: 1.0000e-06\n",
            "Epoch 99/100\n",
            "\n",
            "Epoch 00099: val_loss did not improve from 0.10098\n",
            "271/271 - 26s - loss: 0.0568 - accuracy: 0.9956 - val_loss: 0.1023 - val_accuracy: 0.9829 - lr: 1.0000e-06\n",
            "Epoch 100/100\n",
            "\n",
            "Epoch 00100: val_loss did not improve from 0.10098\n",
            "271/271 - 26s - loss: 0.0575 - accuracy: 0.9950 - val_loss: 0.1014 - val_accuracy: 0.9826 - lr: 1.0000e-06\n"
          ],
          "name": "stdout"
        }
      ]
    },
    {
      "cell_type": "code",
      "metadata": {
        "id": "UaaklaaJRfVC",
        "colab_type": "code",
        "colab": {}
      },
      "source": [
        "model.load_weights('best_model.hdf5')"
      ],
      "execution_count": 0,
      "outputs": []
    },
    {
      "cell_type": "code",
      "metadata": {
        "id": "kJ5TNkp1YDEh",
        "colab_type": "code",
        "outputId": "7aa4776f-1bd6-45d6-83d2-988a415dc8a7",
        "colab": {
          "base_uri": "https://localhost:8080/",
          "height": 68
        }
      },
      "source": [
        "scores = model.evaluate(X_val, y_val, batch_size=128, verbose=1)\n",
        "print('\\nTest result: %.3f loss: %.3f' % (scores[1]*100,scores[0]))"
      ],
      "execution_count": 30,
      "outputs": [
        {
          "output_type": "stream",
          "text": [
            "68/68 [==============================] - 1s 14ms/step - loss: 0.1010 - accuracy: 0.9827\n",
            "\n",
            "Test result: 98.275 loss: 0.101\n"
          ],
          "name": "stdout"
        }
      ]
    },
    {
      "cell_type": "markdown",
      "metadata": {
        "id": "cLKGtDmlZBrR",
        "colab_type": "text"
      },
      "source": [
        ""
      ]
    },
    {
      "cell_type": "code",
      "metadata": {
        "id": "HR1hdu_IZCxC",
        "colab_type": "code",
        "colab": {}
      },
      "source": [
        "test_file_path = \"test-images.npy\"\n",
        "test_images = np.load(test_file_path)"
      ],
      "execution_count": 0,
      "outputs": []
    },
    {
      "cell_type": "code",
      "metadata": {
        "id": "dk48NlY7ZSN-",
        "colab_type": "code",
        "colab": {}
      },
      "source": [
        "#test_images=test_images.astype('float32')/255\n",
        "test_images = (test_images-mean)/(std+1e-7)"
      ],
      "execution_count": 0,
      "outputs": []
    },
    {
      "cell_type": "code",
      "metadata": {
        "id": "WtUaF3AXZNJv",
        "colab_type": "code",
        "colab": {}
      },
      "source": [
        "submission=model.predict(test_images)"
      ],
      "execution_count": 0,
      "outputs": []
    },
    {
      "cell_type": "code",
      "metadata": {
        "id": "wBcAzq4zZnuF",
        "colab_type": "code",
        "outputId": "34d05bb8-166f-4af8-86d0-c37112db14b6",
        "colab": {
          "base_uri": "https://localhost:8080/",
          "height": 34
        }
      },
      "source": [
        "\n",
        "submission=np.argmax(submission,axis=1)\n",
        "print(submission.shape)"
      ],
      "execution_count": 34,
      "outputs": [
        {
          "output_type": "stream",
          "text": [
            "(10838,)\n"
          ],
          "name": "stdout"
        }
      ]
    },
    {
      "cell_type": "markdown",
      "metadata": {
        "id": "K_-hNgK9Jx7p",
        "colab_type": "text"
      },
      "source": [
        "## Save the prediction to csv"
      ]
    },
    {
      "cell_type": "code",
      "metadata": {
        "id": "UQrGefmRJ2lD",
        "colab_type": "code",
        "colab": {}
      },
      "source": [
        "import pandas as pd\n",
        "submission = pd.DataFrame(submission)\n",
        "submission.to_csv('submission.csv',header=['class_index'],index=False)"
      ],
      "execution_count": 0,
      "outputs": []
    },
    {
      "cell_type": "markdown",
      "metadata": {
        "id": "Smf9n3qoJ52k",
        "colab_type": "text"
      },
      "source": [
        "## To download the generated csv in colab run the below command"
      ]
    },
    {
      "cell_type": "code",
      "metadata": {
        "id": "pcTNc8-8KC6d",
        "colab_type": "code",
        "colab": {}
      },
      "source": [
        "from google.colab import files\n",
        "files.download('submission.csv')"
      ],
      "execution_count": 0,
      "outputs": []
    }
  ]
}