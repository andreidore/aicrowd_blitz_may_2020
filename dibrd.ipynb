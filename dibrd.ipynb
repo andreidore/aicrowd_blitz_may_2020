{
  "nbformat": 4,
  "nbformat_minor": 0,
  "metadata": {
    "colab": {
      "name": "dibrd.ipynb",
      "provenance": [],
      "authorship_tag": "ABX9TyMUHyDoavwmvXCVepW1OA/X",
      "include_colab_link": true
    },
    "kernelspec": {
      "name": "python3",
      "display_name": "Python 3"
    }
  },
  "cells": [
    {
      "cell_type": "markdown",
      "metadata": {
        "id": "view-in-github",
        "colab_type": "text"
      },
      "source": [
        "<a href=\"https://colab.research.google.com/github/andreidore/aicrowd_blitz_may_2020/blob/master/dibrd.ipynb\" target=\"_parent\"><img src=\"https://colab.research.google.com/assets/colab-badge.svg\" alt=\"Open In Colab\"/></a>"
      ]
    },
    {
      "cell_type": "code",
      "metadata": {
        "id": "49kewxY4mgaS",
        "colab_type": "code",
        "colab": {
          "base_uri": "https://localhost:8080/",
          "height": 1000
        },
        "outputId": "21ceca5b-e90f-496e-df57-e1251fce7a63"
      },
      "source": [
        "!pip install wandb"
      ],
      "execution_count": 1,
      "outputs": [
        {
          "output_type": "stream",
          "text": [
            "Collecting wandb\n",
            "\u001b[?25l  Downloading https://files.pythonhosted.org/packages/2d/c9/ebbcefa6ef2ba14a7c62a4ee4415a5fecef8fac5e4d1b4e22af26fd9fe22/wandb-0.8.35-py2.py3-none-any.whl (1.4MB)\n",
            "\r\u001b[K     |▎                               | 10kB 4.4MB/s eta 0:00:01\r\u001b[K     |▌                               | 20kB 1.4MB/s eta 0:00:02\r\u001b[K     |▊                               | 30kB 2.0MB/s eta 0:00:01\r\u001b[K     |█                               | 40kB 1.5MB/s eta 0:00:01\r\u001b[K     |█▏                              | 51kB 1.8MB/s eta 0:00:01\r\u001b[K     |█▍                              | 61kB 2.1MB/s eta 0:00:01\r\u001b[K     |█▋                              | 71kB 2.5MB/s eta 0:00:01\r\u001b[K     |██                              | 81kB 2.8MB/s eta 0:00:01\r\u001b[K     |██▏                             | 92kB 3.1MB/s eta 0:00:01\r\u001b[K     |██▍                             | 102kB 2.6MB/s eta 0:00:01\r\u001b[K     |██▋                             | 112kB 2.6MB/s eta 0:00:01\r\u001b[K     |██▉                             | 122kB 2.6MB/s eta 0:00:01\r\u001b[K     |███                             | 133kB 2.6MB/s eta 0:00:01\r\u001b[K     |███▎                            | 143kB 2.6MB/s eta 0:00:01\r\u001b[K     |███▌                            | 153kB 2.6MB/s eta 0:00:01\r\u001b[K     |███▉                            | 163kB 2.6MB/s eta 0:00:01\r\u001b[K     |████                            | 174kB 2.6MB/s eta 0:00:01\r\u001b[K     |████▎                           | 184kB 2.6MB/s eta 0:00:01\r\u001b[K     |████▌                           | 194kB 2.6MB/s eta 0:00:01\r\u001b[K     |████▊                           | 204kB 2.6MB/s eta 0:00:01\r\u001b[K     |█████                           | 215kB 2.6MB/s eta 0:00:01\r\u001b[K     |█████▏                          | 225kB 2.6MB/s eta 0:00:01\r\u001b[K     |█████▌                          | 235kB 2.6MB/s eta 0:00:01\r\u001b[K     |█████▊                          | 245kB 2.6MB/s eta 0:00:01\r\u001b[K     |██████                          | 256kB 2.6MB/s eta 0:00:01\r\u001b[K     |██████▏                         | 266kB 2.6MB/s eta 0:00:01\r\u001b[K     |██████▍                         | 276kB 2.6MB/s eta 0:00:01\r\u001b[K     |██████▋                         | 286kB 2.6MB/s eta 0:00:01\r\u001b[K     |██████▉                         | 296kB 2.6MB/s eta 0:00:01\r\u001b[K     |███████                         | 307kB 2.6MB/s eta 0:00:01\r\u001b[K     |███████▍                        | 317kB 2.6MB/s eta 0:00:01\r\u001b[K     |███████▋                        | 327kB 2.6MB/s eta 0:00:01\r\u001b[K     |███████▉                        | 337kB 2.6MB/s eta 0:00:01\r\u001b[K     |████████                        | 348kB 2.6MB/s eta 0:00:01\r\u001b[K     |████████▎                       | 358kB 2.6MB/s eta 0:00:01\r\u001b[K     |████████▌                       | 368kB 2.6MB/s eta 0:00:01\r\u001b[K     |████████▊                       | 378kB 2.6MB/s eta 0:00:01\r\u001b[K     |█████████                       | 389kB 2.6MB/s eta 0:00:01\r\u001b[K     |█████████▎                      | 399kB 2.6MB/s eta 0:00:01\r\u001b[K     |█████████▌                      | 409kB 2.6MB/s eta 0:00:01\r\u001b[K     |█████████▊                      | 419kB 2.6MB/s eta 0:00:01\r\u001b[K     |██████████                      | 430kB 2.6MB/s eta 0:00:01\r\u001b[K     |██████████▏                     | 440kB 2.6MB/s eta 0:00:01\r\u001b[K     |██████████▍                     | 450kB 2.6MB/s eta 0:00:01\r\u001b[K     |██████████▋                     | 460kB 2.6MB/s eta 0:00:01\r\u001b[K     |███████████                     | 471kB 2.6MB/s eta 0:00:01\r\u001b[K     |███████████▏                    | 481kB 2.6MB/s eta 0:00:01\r\u001b[K     |███████████▍                    | 491kB 2.6MB/s eta 0:00:01\r\u001b[K     |███████████▋                    | 501kB 2.6MB/s eta 0:00:01\r\u001b[K     |███████████▉                    | 512kB 2.6MB/s eta 0:00:01\r\u001b[K     |████████████                    | 522kB 2.6MB/s eta 0:00:01\r\u001b[K     |████████████▎                   | 532kB 2.6MB/s eta 0:00:01\r\u001b[K     |████████████▋                   | 542kB 2.6MB/s eta 0:00:01\r\u001b[K     |████████████▉                   | 552kB 2.6MB/s eta 0:00:01\r\u001b[K     |█████████████                   | 563kB 2.6MB/s eta 0:00:01\r\u001b[K     |█████████████▎                  | 573kB 2.6MB/s eta 0:00:01\r\u001b[K     |█████████████▌                  | 583kB 2.6MB/s eta 0:00:01\r\u001b[K     |█████████████▊                  | 593kB 2.6MB/s eta 0:00:01\r\u001b[K     |██████████████                  | 604kB 2.6MB/s eta 0:00:01\r\u001b[K     |██████████████▏                 | 614kB 2.6MB/s eta 0:00:01\r\u001b[K     |██████████████▌                 | 624kB 2.6MB/s eta 0:00:01\r\u001b[K     |██████████████▊                 | 634kB 2.6MB/s eta 0:00:01\r\u001b[K     |███████████████                 | 645kB 2.6MB/s eta 0:00:01\r\u001b[K     |███████████████▏                | 655kB 2.6MB/s eta 0:00:01\r\u001b[K     |███████████████▍                | 665kB 2.6MB/s eta 0:00:01\r\u001b[K     |███████████████▋                | 675kB 2.6MB/s eta 0:00:01\r\u001b[K     |███████████████▉                | 686kB 2.6MB/s eta 0:00:01\r\u001b[K     |████████████████                | 696kB 2.6MB/s eta 0:00:01\r\u001b[K     |████████████████▍               | 706kB 2.6MB/s eta 0:00:01\r\u001b[K     |████████████████▋               | 716kB 2.6MB/s eta 0:00:01\r\u001b[K     |████████████████▉               | 727kB 2.6MB/s eta 0:00:01\r\u001b[K     |█████████████████               | 737kB 2.6MB/s eta 0:00:01\r\u001b[K     |█████████████████▎              | 747kB 2.6MB/s eta 0:00:01\r\u001b[K     |█████████████████▌              | 757kB 2.6MB/s eta 0:00:01\r\u001b[K     |█████████████████▊              | 768kB 2.6MB/s eta 0:00:01\r\u001b[K     |██████████████████              | 778kB 2.6MB/s eta 0:00:01\r\u001b[K     |██████████████████▎             | 788kB 2.6MB/s eta 0:00:01\r\u001b[K     |██████████████████▌             | 798kB 2.6MB/s eta 0:00:01\r\u001b[K     |██████████████████▊             | 808kB 2.6MB/s eta 0:00:01\r\u001b[K     |███████████████████             | 819kB 2.6MB/s eta 0:00:01\r\u001b[K     |███████████████████▏            | 829kB 2.6MB/s eta 0:00:01\r\u001b[K     |███████████████████▍            | 839kB 2.6MB/s eta 0:00:01\r\u001b[K     |███████████████████▋            | 849kB 2.6MB/s eta 0:00:01\r\u001b[K     |████████████████████            | 860kB 2.6MB/s eta 0:00:01\r\u001b[K     |████████████████████▏           | 870kB 2.6MB/s eta 0:00:01\r\u001b[K     |████████████████████▍           | 880kB 2.6MB/s eta 0:00:01\r\u001b[K     |████████████████████▋           | 890kB 2.6MB/s eta 0:00:01\r\u001b[K     |████████████████████▉           | 901kB 2.6MB/s eta 0:00:01\r\u001b[K     |█████████████████████           | 911kB 2.6MB/s eta 0:00:01\r\u001b[K     |█████████████████████▎          | 921kB 2.6MB/s eta 0:00:01\r\u001b[K     |█████████████████████▋          | 931kB 2.6MB/s eta 0:00:01\r\u001b[K     |█████████████████████▉          | 942kB 2.6MB/s eta 0:00:01\r\u001b[K     |██████████████████████          | 952kB 2.6MB/s eta 0:00:01\r\u001b[K     |██████████████████████▎         | 962kB 2.6MB/s eta 0:00:01\r\u001b[K     |██████████████████████▌         | 972kB 2.6MB/s eta 0:00:01\r\u001b[K     |██████████████████████▊         | 983kB 2.6MB/s eta 0:00:01\r\u001b[K     |███████████████████████         | 993kB 2.6MB/s eta 0:00:01\r\u001b[K     |███████████████████████▏        | 1.0MB 2.6MB/s eta 0:00:01\r\u001b[K     |███████████████████████▌        | 1.0MB 2.6MB/s eta 0:00:01\r\u001b[K     |███████████████████████▊        | 1.0MB 2.6MB/s eta 0:00:01\r\u001b[K     |████████████████████████        | 1.0MB 2.6MB/s eta 0:00:01\r\u001b[K     |████████████████████████▏       | 1.0MB 2.6MB/s eta 0:00:01\r\u001b[K     |████████████████████████▍       | 1.1MB 2.6MB/s eta 0:00:01\r\u001b[K     |████████████████████████▋       | 1.1MB 2.6MB/s eta 0:00:01\r\u001b[K     |████████████████████████▉       | 1.1MB 2.6MB/s eta 0:00:01\r\u001b[K     |█████████████████████████▏      | 1.1MB 2.6MB/s eta 0:00:01\r\u001b[K     |█████████████████████████▍      | 1.1MB 2.6MB/s eta 0:00:01\r\u001b[K     |█████████████████████████▋      | 1.1MB 2.6MB/s eta 0:00:01\r\u001b[K     |█████████████████████████▉      | 1.1MB 2.6MB/s eta 0:00:01\r\u001b[K     |██████████████████████████      | 1.1MB 2.6MB/s eta 0:00:01\r\u001b[K     |██████████████████████████▎     | 1.1MB 2.6MB/s eta 0:00:01\r\u001b[K     |██████████████████████████▌     | 1.1MB 2.6MB/s eta 0:00:01\r\u001b[K     |██████████████████████████▊     | 1.2MB 2.6MB/s eta 0:00:01\r\u001b[K     |███████████████████████████     | 1.2MB 2.6MB/s eta 0:00:01\r\u001b[K     |███████████████████████████▎    | 1.2MB 2.6MB/s eta 0:00:01\r\u001b[K     |███████████████████████████▌    | 1.2MB 2.6MB/s eta 0:00:01\r\u001b[K     |███████████████████████████▊    | 1.2MB 2.6MB/s eta 0:00:01\r\u001b[K     |████████████████████████████    | 1.2MB 2.6MB/s eta 0:00:01\r\u001b[K     |████████████████████████████▏   | 1.2MB 2.6MB/s eta 0:00:01\r\u001b[K     |████████████████████████████▍   | 1.2MB 2.6MB/s eta 0:00:01\r\u001b[K     |████████████████████████████▋   | 1.2MB 2.6MB/s eta 0:00:01\r\u001b[K     |█████████████████████████████   | 1.2MB 2.6MB/s eta 0:00:01\r\u001b[K     |█████████████████████████████▏  | 1.3MB 2.6MB/s eta 0:00:01\r\u001b[K     |█████████████████████████████▍  | 1.3MB 2.6MB/s eta 0:00:01\r\u001b[K     |█████████████████████████████▋  | 1.3MB 2.6MB/s eta 0:00:01\r\u001b[K     |█████████████████████████████▉  | 1.3MB 2.6MB/s eta 0:00:01\r\u001b[K     |██████████████████████████████  | 1.3MB 2.6MB/s eta 0:00:01\r\u001b[K     |██████████████████████████████▎ | 1.3MB 2.6MB/s eta 0:00:01\r\u001b[K     |██████████████████████████████▋ | 1.3MB 2.6MB/s eta 0:00:01\r\u001b[K     |██████████████████████████████▉ | 1.3MB 2.6MB/s eta 0:00:01\r\u001b[K     |███████████████████████████████ | 1.3MB 2.6MB/s eta 0:00:01\r\u001b[K     |███████████████████████████████▎| 1.4MB 2.6MB/s eta 0:00:01\r\u001b[K     |███████████████████████████████▌| 1.4MB 2.6MB/s eta 0:00:01\r\u001b[K     |███████████████████████████████▊| 1.4MB 2.6MB/s eta 0:00:01\r\u001b[K     |████████████████████████████████| 1.4MB 2.6MB/s eta 0:00:01\r\u001b[K     |████████████████████████████████| 1.4MB 2.6MB/s \n",
            "\u001b[?25hRequirement already satisfied: Click>=7.0 in /usr/local/lib/python3.6/dist-packages (from wandb) (7.1.2)\n",
            "Requirement already satisfied: python-dateutil>=2.6.1 in /usr/local/lib/python3.6/dist-packages (from wandb) (2.8.1)\n",
            "Collecting docker-pycreds>=0.4.0\n",
            "  Downloading https://files.pythonhosted.org/packages/f5/e8/f6bd1eee09314e7e6dee49cbe2c5e22314ccdb38db16c9fc72d2fa80d054/docker_pycreds-0.4.0-py2.py3-none-any.whl\n",
            "Collecting gql==0.2.0\n",
            "  Downloading https://files.pythonhosted.org/packages/c4/6f/cf9a3056045518f06184e804bae89390eb706168349daa9dff8ac609962a/gql-0.2.0.tar.gz\n",
            "Collecting configparser>=3.8.1\n",
            "  Downloading https://files.pythonhosted.org/packages/4b/6b/01baa293090240cf0562cc5eccb69c6f5006282127f2b846fad011305c79/configparser-5.0.0-py3-none-any.whl\n",
            "Requirement already satisfied: six>=1.10.0 in /usr/local/lib/python3.6/dist-packages (from wandb) (1.12.0)\n",
            "Collecting sentry-sdk>=0.4.0\n",
            "\u001b[?25l  Downloading https://files.pythonhosted.org/packages/20/7e/19545324e83db4522b885808cd913c3b93ecc0c88b03e037b78c6a417fa8/sentry_sdk-0.14.3-py2.py3-none-any.whl (103kB)\n",
            "\u001b[K     |████████████████████████████████| 112kB 48.6MB/s \n",
            "\u001b[?25hCollecting subprocess32>=3.5.3\n",
            "\u001b[?25l  Downloading https://files.pythonhosted.org/packages/32/c8/564be4d12629b912ea431f1a50eb8b3b9d00f1a0b1ceff17f266be190007/subprocess32-3.5.4.tar.gz (97kB)\n",
            "\u001b[K     |████████████████████████████████| 102kB 11.7MB/s \n",
            "\u001b[?25hCollecting watchdog>=0.8.3\n",
            "\u001b[?25l  Downloading https://files.pythonhosted.org/packages/73/c3/ed6d992006837e011baca89476a4bbffb0a91602432f73bd4473816c76e2/watchdog-0.10.2.tar.gz (95kB)\n",
            "\u001b[K     |████████████████████████████████| 102kB 10.9MB/s \n",
            "\u001b[?25hRequirement already satisfied: psutil>=5.0.0 in /usr/local/lib/python3.6/dist-packages (from wandb) (5.4.8)\n",
            "Requirement already satisfied: requests>=2.0.0 in /usr/local/lib/python3.6/dist-packages (from wandb) (2.23.0)\n",
            "Collecting GitPython>=1.0.0\n",
            "\u001b[?25l  Downloading https://files.pythonhosted.org/packages/44/33/917e6fde1cad13daa7053f39b7c8af3be287314f75f1b1ea8d3fe37a8571/GitPython-3.1.2-py3-none-any.whl (451kB)\n",
            "\u001b[K     |████████████████████████████████| 460kB 41.3MB/s \n",
            "\u001b[?25hRequirement already satisfied: PyYAML>=3.10 in /usr/local/lib/python3.6/dist-packages (from wandb) (3.13)\n",
            "Collecting shortuuid>=0.5.0\n",
            "  Downloading https://files.pythonhosted.org/packages/25/a6/2ecc1daa6a304e7f1b216f0896b26156b78e7c38e1211e9b798b4716c53d/shortuuid-1.0.1-py3-none-any.whl\n",
            "Requirement already satisfied: nvidia-ml-py3>=7.352.0 in /usr/local/lib/python3.6/dist-packages (from wandb) (7.352.0)\n",
            "Collecting graphql-core<2,>=0.5.0\n",
            "\u001b[?25l  Downloading https://files.pythonhosted.org/packages/b0/89/00ad5e07524d8c523b14d70c685e0299a8b0de6d0727e368c41b89b7ed0b/graphql-core-1.1.tar.gz (70kB)\n",
            "\u001b[K     |████████████████████████████████| 71kB 8.3MB/s \n",
            "\u001b[?25hRequirement already satisfied: promise<3,>=2.0 in /usr/local/lib/python3.6/dist-packages (from gql==0.2.0->wandb) (2.3)\n",
            "Requirement already satisfied: certifi in /usr/local/lib/python3.6/dist-packages (from sentry-sdk>=0.4.0->wandb) (2020.4.5.1)\n",
            "Requirement already satisfied: urllib3>=1.10.0 in /usr/local/lib/python3.6/dist-packages (from sentry-sdk>=0.4.0->wandb) (1.24.3)\n",
            "Collecting pathtools>=0.1.1\n",
            "  Downloading https://files.pythonhosted.org/packages/e7/7f/470d6fcdf23f9f3518f6b0b76be9df16dcc8630ad409947f8be2eb0ed13a/pathtools-0.1.2.tar.gz\n",
            "Requirement already satisfied: idna<3,>=2.5 in /usr/local/lib/python3.6/dist-packages (from requests>=2.0.0->wandb) (2.9)\n",
            "Requirement already satisfied: chardet<4,>=3.0.2 in /usr/local/lib/python3.6/dist-packages (from requests>=2.0.0->wandb) (3.0.4)\n",
            "Collecting gitdb<5,>=4.0.1\n",
            "\u001b[?25l  Downloading https://files.pythonhosted.org/packages/48/11/d1800bca0a3bae820b84b7d813ad1eff15a48a64caea9c823fc8c1b119e8/gitdb-4.0.5-py3-none-any.whl (63kB)\n",
            "\u001b[K     |████████████████████████████████| 71kB 9.5MB/s \n",
            "\u001b[?25hCollecting smmap<4,>=3.0.1\n",
            "  Downloading https://files.pythonhosted.org/packages/b0/9a/4d409a6234eb940e6a78dfdfc66156e7522262f5f2fecca07dc55915952d/smmap-3.0.4-py2.py3-none-any.whl\n",
            "Building wheels for collected packages: gql, subprocess32, watchdog, graphql-core, pathtools\n",
            "  Building wheel for gql (setup.py) ... \u001b[?25l\u001b[?25hdone\n",
            "  Created wheel for gql: filename=gql-0.2.0-cp36-none-any.whl size=7630 sha256=d38e2f0a07d931ed797a96af07c32f4330a794e36b54321c4335e8d8538dcfb7\n",
            "  Stored in directory: /root/.cache/pip/wheels/ce/0e/7b/58a8a5268655b3ad74feef5aa97946f0addafb3cbb6bd2da23\n",
            "  Building wheel for subprocess32 (setup.py) ... \u001b[?25l\u001b[?25hdone\n",
            "  Created wheel for subprocess32: filename=subprocess32-3.5.4-cp36-none-any.whl size=6489 sha256=f03636f2358325336cbbe32b76bcc5cff5a6e7090036b8f3e6f9465037b5c715\n",
            "  Stored in directory: /root/.cache/pip/wheels/68/39/1a/5e402bdfdf004af1786c8b853fd92f8c4a04f22aad179654d1\n",
            "  Building wheel for watchdog (setup.py) ... \u001b[?25l\u001b[?25hdone\n",
            "  Created wheel for watchdog: filename=watchdog-0.10.2-cp36-none-any.whl size=73605 sha256=1bd4ff33acdbbfb7c190de6076030aca7d3a56055d6cae5810e47fdf6512cb15\n",
            "  Stored in directory: /root/.cache/pip/wheels/bc/ed/6c/028dea90d31b359cd2a7c8b0da4db80e41d24a59614154072e\n",
            "  Building wheel for graphql-core (setup.py) ... \u001b[?25l\u001b[?25hdone\n",
            "  Created wheel for graphql-core: filename=graphql_core-1.1-cp36-none-any.whl size=104650 sha256=333161c7d3febcc47672be6c6ca90fd4b95c5bcdcad84f0a9d541e7219fbfb56\n",
            "  Stored in directory: /root/.cache/pip/wheels/45/99/d7/c424029bb0fe910c63b68dbf2aa20d3283d023042521bcd7d5\n",
            "  Building wheel for pathtools (setup.py) ... \u001b[?25l\u001b[?25hdone\n",
            "  Created wheel for pathtools: filename=pathtools-0.1.2-cp36-none-any.whl size=8784 sha256=5619d4efd7aba0f6ecf08d497eee9328e77bec8bca177812d5db89e213ea1ab1\n",
            "  Stored in directory: /root/.cache/pip/wheels/0b/04/79/c3b0c3a0266a3cb4376da31e5bfe8bba0c489246968a68e843\n",
            "Successfully built gql subprocess32 watchdog graphql-core pathtools\n",
            "Installing collected packages: docker-pycreds, graphql-core, gql, configparser, sentry-sdk, subprocess32, pathtools, watchdog, smmap, gitdb, GitPython, shortuuid, wandb\n",
            "Successfully installed GitPython-3.1.2 configparser-5.0.0 docker-pycreds-0.4.0 gitdb-4.0.5 gql-0.2.0 graphql-core-1.1 pathtools-0.1.2 sentry-sdk-0.14.3 shortuuid-1.0.1 smmap-3.0.4 subprocess32-3.5.4 wandb-0.8.35 watchdog-0.10.2\n"
          ],
          "name": "stdout"
        }
      ]
    }
  ]
}